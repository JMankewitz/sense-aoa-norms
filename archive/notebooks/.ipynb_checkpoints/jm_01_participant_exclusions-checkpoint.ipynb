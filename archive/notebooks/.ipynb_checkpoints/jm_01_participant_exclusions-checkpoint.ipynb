{
 "cells": [
  {
   "cell_type": "markdown",
   "metadata": {},
   "source": [
    "Notebook Structure:\n",
    "\n",
    "Clean Data  \n",
    "1) Drop no consent [Link](#no_consent)   \n",
    "2) Drop no sense estimations [Link](#no_estimations)  \n",
    "3) Drop Participants who failed at least one attention check [Link](#attention_check)  \n",
    "4) Drop Participants who never had an attention check, or don't have all the attention checks [Link](#esl)   \n",
    "5) Drop For poor spearmans [Link](#spearmans)   \n",
    "Drop participants by metrics [Link](#drop)"
   ]
  },
  {
   "cell_type": "code",
   "execution_count": 1,
   "metadata": {},
   "outputs": [],
   "source": [
    "import sys\n",
    "sys.path.append('..')\n",
    "\n",
    "import pandas as pd\n",
    "pd.options.mode.chained_assignment = None\n",
    "\n",
    "import numpy as np\n",
    "import matplotlib.pyplot as plt\n",
    "from nltk.corpus import wordnet as wn\n",
    "from nltk.stem import WordNetLemmatizer \n",
    "import random\n",
    "import imp\n",
    "from modules import data_cleaning\n",
    "\n",
    "%load_ext rpy2.ipython\n",
    "import rpy2.robjects.lib.ggplot2 as ggplot2"
   ]
  },
  {
   "cell_type": "code",
   "execution_count": 2,
   "metadata": {},
   "outputs": [],
   "source": [
    "raw_word_sense_text_entry_df = pd.read_csv('../data/word_sense_text_entry_most.csv',dtype=str)"
   ]
  },
  {
   "cell_type": "code",
   "execution_count": 3,
   "metadata": {},
   "outputs": [
    {
     "data": {
      "text/plain": [
       "Index(['StartDate', 'EndDate', 'Status', 'IPAddress', 'Progress',\n",
       "       'Duration (in seconds)', 'Finished', 'RecordedDate', 'ResponseId',\n",
       "       'RecipientLastName', 'RecipientFirstName', 'RecipientEmail',\n",
       "       'ExternalReference', 'LocationLatitude', 'LocationLongitude',\n",
       "       'DistributionChannel', 'UserLanguage', 'Q3', 'eng', 'gender',\n",
       "       'gender_3_TEXT', 'age', 'parent', 'edu',\n",
       "       'cat calibration_understand_1'],\n",
       "      dtype='object')"
      ]
     },
     "execution_count": 3,
     "metadata": {},
     "output_type": "execute_result"
    }
   ],
   "source": [
    "raw_word_sense_text_entry_df.columns[0:25]"
   ]
  },
  {
   "cell_type": "code",
   "execution_count": 4,
   "metadata": {},
   "outputs": [
    {
     "data": {
      "text/html": [
       "<div>\n",
       "<style scoped>\n",
       "    .dataframe tbody tr th:only-of-type {\n",
       "        vertical-align: middle;\n",
       "    }\n",
       "\n",
       "    .dataframe tbody tr th {\n",
       "        vertical-align: top;\n",
       "    }\n",
       "\n",
       "    .dataframe thead th {\n",
       "        text-align: right;\n",
       "    }\n",
       "</style>\n",
       "<table border=\"1\" class=\"dataframe\">\n",
       "  <thead>\n",
       "    <tr style=\"text-align: right;\">\n",
       "      <th></th>\n",
       "      <th>StartDate</th>\n",
       "      <th>EndDate</th>\n",
       "      <th>Status</th>\n",
       "      <th>IPAddress</th>\n",
       "      <th>Progress</th>\n",
       "      <th>Duration (in seconds)</th>\n",
       "      <th>Finished</th>\n",
       "      <th>RecordedDate</th>\n",
       "      <th>ResponseId</th>\n",
       "      <th>RecipientLastName</th>\n",
       "      <th>...</th>\n",
       "      <th>yellow adj_say_2</th>\n",
       "      <th>yellow adj_say_3</th>\n",
       "      <th>yellow adj_say_4</th>\n",
       "      <th>yucky adj_say_1</th>\n",
       "      <th>say_check 1_1.3</th>\n",
       "      <th>say_check 2_1.3</th>\n",
       "      <th>say_check 3_1.3</th>\n",
       "      <th>say_check 4_1.3</th>\n",
       "      <th>say_check 5_1.3</th>\n",
       "      <th>MTurkCode</th>\n",
       "    </tr>\n",
       "  </thead>\n",
       "  <tbody>\n",
       "    <tr>\n",
       "      <th>0</th>\n",
       "      <td>Start Date</td>\n",
       "      <td>End Date</td>\n",
       "      <td>Response Type</td>\n",
       "      <td>IP Address</td>\n",
       "      <td>Progress</td>\n",
       "      <td>Duration (in seconds)</td>\n",
       "      <td>Finished</td>\n",
       "      <td>Recorded Date</td>\n",
       "      <td>Response ID</td>\n",
       "      <td>Recipient Last Name</td>\n",
       "      <td>...</td>\n",
       "      <td>Please enter your best estimate of the first a...</td>\n",
       "      <td>Please enter your best estimate of the first a...</td>\n",
       "      <td>Please enter your best estimate of the first a...</td>\n",
       "      <td>Please enter your best estimate of the first a...</td>\n",
       "      <td>Please enter your best estimate of the first a...</td>\n",
       "      <td>Please enter your best estimate of the first a...</td>\n",
       "      <td>Please enter your best estimate of the first a...</td>\n",
       "      <td>Please enter your best estimate of the first a...</td>\n",
       "      <td>Please enter your best estimate of the first a...</td>\n",
       "      <td>MTurkCode</td>\n",
       "    </tr>\n",
       "    <tr>\n",
       "      <th>1</th>\n",
       "      <td>{\"ImportId\":\"startDate\",\"timeZone\":\"America/Lo...</td>\n",
       "      <td>{\"ImportId\":\"endDate\",\"timeZone\":\"America/Los_...</td>\n",
       "      <td>{\"ImportId\":\"status\"}</td>\n",
       "      <td>{\"ImportId\":\"ipAddress\"}</td>\n",
       "      <td>{\"ImportId\":\"progress\"}</td>\n",
       "      <td>{\"ImportId\":\"duration\"}</td>\n",
       "      <td>{\"ImportId\":\"finished\"}</td>\n",
       "      <td>{\"ImportId\":\"recordedDate\",\"timeZone\":\"America...</td>\n",
       "      <td>{\"ImportId\":\"_recordId\"}</td>\n",
       "      <td>{\"ImportId\":\"recipientLastName\"}</td>\n",
       "      <td>...</td>\n",
       "      <td>{\"ImportId\":\"QID1831_2\"}</td>\n",
       "      <td>{\"ImportId\":\"QID1831_3\"}</td>\n",
       "      <td>{\"ImportId\":\"QID1831_4\"}</td>\n",
       "      <td>{\"ImportId\":\"QID1832_1\"}</td>\n",
       "      <td>{\"ImportId\":\"QID1833_1\"}</td>\n",
       "      <td>{\"ImportId\":\"QID1834_1\"}</td>\n",
       "      <td>{\"ImportId\":\"QID1835_1\"}</td>\n",
       "      <td>{\"ImportId\":\"QID1836_1\"}</td>\n",
       "      <td>{\"ImportId\":\"QID1837_1\"}</td>\n",
       "      <td>{\"ImportId\":\"MTurkCode\"}</td>\n",
       "    </tr>\n",
       "    <tr>\n",
       "      <th>2</th>\n",
       "      <td>2019-05-18 12:36:19</td>\n",
       "      <td>2019-05-18 12:39:44</td>\n",
       "      <td>IP Address</td>\n",
       "      <td>74.233.53.167</td>\n",
       "      <td>100</td>\n",
       "      <td>204</td>\n",
       "      <td>True</td>\n",
       "      <td>2019-05-18 12:39:45</td>\n",
       "      <td>R_2DZcHiPnsjQV7Jk</td>\n",
       "      <td>NaN</td>\n",
       "      <td>...</td>\n",
       "      <td>NaN</td>\n",
       "      <td>NaN</td>\n",
       "      <td>NaN</td>\n",
       "      <td>NaN</td>\n",
       "      <td>NaN</td>\n",
       "      <td>NaN</td>\n",
       "      <td>NaN</td>\n",
       "      <td>NaN</td>\n",
       "      <td>NaN</td>\n",
       "      <td>8101920783</td>\n",
       "    </tr>\n",
       "    <tr>\n",
       "      <th>3</th>\n",
       "      <td>2019-05-18 12:35:03</td>\n",
       "      <td>2019-05-18 12:40:51</td>\n",
       "      <td>IP Address</td>\n",
       "      <td>24.238.85.173</td>\n",
       "      <td>100</td>\n",
       "      <td>347</td>\n",
       "      <td>True</td>\n",
       "      <td>2019-05-18 12:40:52</td>\n",
       "      <td>R_10obdOU9YNNFGvP</td>\n",
       "      <td>NaN</td>\n",
       "      <td>...</td>\n",
       "      <td>NaN</td>\n",
       "      <td>NaN</td>\n",
       "      <td>NaN</td>\n",
       "      <td>NaN</td>\n",
       "      <td>NaN</td>\n",
       "      <td>NaN</td>\n",
       "      <td>NaN</td>\n",
       "      <td>NaN</td>\n",
       "      <td>NaN</td>\n",
       "      <td>8192628109</td>\n",
       "    </tr>\n",
       "    <tr>\n",
       "      <th>4</th>\n",
       "      <td>2019-05-18 12:35:53</td>\n",
       "      <td>2019-05-18 12:40:53</td>\n",
       "      <td>IP Address</td>\n",
       "      <td>159.146.101.21</td>\n",
       "      <td>100</td>\n",
       "      <td>299</td>\n",
       "      <td>True</td>\n",
       "      <td>2019-05-18 12:40:54</td>\n",
       "      <td>R_a5n73h3f444HB3H</td>\n",
       "      <td>NaN</td>\n",
       "      <td>...</td>\n",
       "      <td>NaN</td>\n",
       "      <td>NaN</td>\n",
       "      <td>NaN</td>\n",
       "      <td>NaN</td>\n",
       "      <td>NaN</td>\n",
       "      <td>NaN</td>\n",
       "      <td>NaN</td>\n",
       "      <td>NaN</td>\n",
       "      <td>NaN</td>\n",
       "      <td>2901063375</td>\n",
       "    </tr>\n",
       "    <tr>\n",
       "      <th>...</th>\n",
       "      <td>...</td>\n",
       "      <td>...</td>\n",
       "      <td>...</td>\n",
       "      <td>...</td>\n",
       "      <td>...</td>\n",
       "      <td>...</td>\n",
       "      <td>...</td>\n",
       "      <td>...</td>\n",
       "      <td>...</td>\n",
       "      <td>...</td>\n",
       "      <td>...</td>\n",
       "      <td>...</td>\n",
       "      <td>...</td>\n",
       "      <td>...</td>\n",
       "      <td>...</td>\n",
       "      <td>...</td>\n",
       "      <td>...</td>\n",
       "      <td>...</td>\n",
       "      <td>...</td>\n",
       "      <td>...</td>\n",
       "      <td>...</td>\n",
       "    </tr>\n",
       "    <tr>\n",
       "      <th>2438</th>\n",
       "      <td>2019-05-20 08:13:55</td>\n",
       "      <td>2019-05-20 08:45:02</td>\n",
       "      <td>IP Address</td>\n",
       "      <td>72.189.240.60</td>\n",
       "      <td>69</td>\n",
       "      <td>1866</td>\n",
       "      <td>False</td>\n",
       "      <td>2019-05-27 08:45:30</td>\n",
       "      <td>R_2tM95SNxsMNLFAW</td>\n",
       "      <td>NaN</td>\n",
       "      <td>...</td>\n",
       "      <td>NaN</td>\n",
       "      <td>NaN</td>\n",
       "      <td>NaN</td>\n",
       "      <td>NaN</td>\n",
       "      <td>NaN</td>\n",
       "      <td>NaN</td>\n",
       "      <td>NaN</td>\n",
       "      <td>NaN</td>\n",
       "      <td>NaN</td>\n",
       "      <td>9002638370</td>\n",
       "    </tr>\n",
       "    <tr>\n",
       "      <th>2439</th>\n",
       "      <td>2019-05-20 08:07:15</td>\n",
       "      <td>2019-05-20 08:51:36</td>\n",
       "      <td>IP Address</td>\n",
       "      <td>104.58.27.21</td>\n",
       "      <td>94</td>\n",
       "      <td>2661</td>\n",
       "      <td>False</td>\n",
       "      <td>2019-05-27 08:51:59</td>\n",
       "      <td>R_232xSOx8mYgknGW</td>\n",
       "      <td>NaN</td>\n",
       "      <td>...</td>\n",
       "      <td>NaN</td>\n",
       "      <td>NaN</td>\n",
       "      <td>NaN</td>\n",
       "      <td>NaN</td>\n",
       "      <td>NaN</td>\n",
       "      <td>NaN</td>\n",
       "      <td>NaN</td>\n",
       "      <td>NaN</td>\n",
       "      <td>NaN</td>\n",
       "      <td>9135011937</td>\n",
       "    </tr>\n",
       "    <tr>\n",
       "      <th>2440</th>\n",
       "      <td>2019-05-20 08:48:03</td>\n",
       "      <td>2019-05-20 08:53:15</td>\n",
       "      <td>IP Address</td>\n",
       "      <td>184.15.49.184</td>\n",
       "      <td>69</td>\n",
       "      <td>312</td>\n",
       "      <td>False</td>\n",
       "      <td>2019-05-27 08:53:22</td>\n",
       "      <td>R_3j8X7ni8csErlCf</td>\n",
       "      <td>NaN</td>\n",
       "      <td>...</td>\n",
       "      <td>NaN</td>\n",
       "      <td>NaN</td>\n",
       "      <td>NaN</td>\n",
       "      <td>NaN</td>\n",
       "      <td>NaN</td>\n",
       "      <td>NaN</td>\n",
       "      <td>NaN</td>\n",
       "      <td>NaN</td>\n",
       "      <td>NaN</td>\n",
       "      <td>943332300</td>\n",
       "    </tr>\n",
       "    <tr>\n",
       "      <th>2441</th>\n",
       "      <td>2019-05-20 06:25:17</td>\n",
       "      <td>2019-05-20 11:45:59</td>\n",
       "      <td>IP Address</td>\n",
       "      <td>70.191.168.181</td>\n",
       "      <td>94</td>\n",
       "      <td>19242</td>\n",
       "      <td>False</td>\n",
       "      <td>2019-05-27 11:46:31</td>\n",
       "      <td>R_3Db8sRQKaCDSh5f</td>\n",
       "      <td>NaN</td>\n",
       "      <td>...</td>\n",
       "      <td>NaN</td>\n",
       "      <td>NaN</td>\n",
       "      <td>NaN</td>\n",
       "      <td>NaN</td>\n",
       "      <td>5</td>\n",
       "      <td>NaN</td>\n",
       "      <td>NaN</td>\n",
       "      <td>NaN</td>\n",
       "      <td>NaN</td>\n",
       "      <td>1583881992</td>\n",
       "    </tr>\n",
       "    <tr>\n",
       "      <th>2442</th>\n",
       "      <td>2019-05-20 04:56:47</td>\n",
       "      <td>2019-05-20 21:21:58</td>\n",
       "      <td>IP Address</td>\n",
       "      <td>192.228.105.21</td>\n",
       "      <td>32</td>\n",
       "      <td>59110</td>\n",
       "      <td>False</td>\n",
       "      <td>2019-05-27 21:22:11</td>\n",
       "      <td>R_TaNmzlv7UmfUT2p</td>\n",
       "      <td>NaN</td>\n",
       "      <td>...</td>\n",
       "      <td>NaN</td>\n",
       "      <td>NaN</td>\n",
       "      <td>NaN</td>\n",
       "      <td>NaN</td>\n",
       "      <td>NaN</td>\n",
       "      <td>NaN</td>\n",
       "      <td>NaN</td>\n",
       "      <td>NaN</td>\n",
       "      <td>NaN</td>\n",
       "      <td>4578916728</td>\n",
       "    </tr>\n",
       "  </tbody>\n",
       "</table>\n",
       "<p>2443 rows × 6801 columns</p>\n",
       "</div>"
      ],
      "text/plain": [
       "                                              StartDate  \\\n",
       "0                                            Start Date   \n",
       "1     {\"ImportId\":\"startDate\",\"timeZone\":\"America/Lo...   \n",
       "2                                   2019-05-18 12:36:19   \n",
       "3                                   2019-05-18 12:35:03   \n",
       "4                                   2019-05-18 12:35:53   \n",
       "...                                                 ...   \n",
       "2438                                2019-05-20 08:13:55   \n",
       "2439                                2019-05-20 08:07:15   \n",
       "2440                                2019-05-20 08:48:03   \n",
       "2441                                2019-05-20 06:25:17   \n",
       "2442                                2019-05-20 04:56:47   \n",
       "\n",
       "                                                EndDate  \\\n",
       "0                                              End Date   \n",
       "1     {\"ImportId\":\"endDate\",\"timeZone\":\"America/Los_...   \n",
       "2                                   2019-05-18 12:39:44   \n",
       "3                                   2019-05-18 12:40:51   \n",
       "4                                   2019-05-18 12:40:53   \n",
       "...                                                 ...   \n",
       "2438                                2019-05-20 08:45:02   \n",
       "2439                                2019-05-20 08:51:36   \n",
       "2440                                2019-05-20 08:53:15   \n",
       "2441                                2019-05-20 11:45:59   \n",
       "2442                                2019-05-20 21:21:58   \n",
       "\n",
       "                     Status                 IPAddress  \\\n",
       "0             Response Type                IP Address   \n",
       "1     {\"ImportId\":\"status\"}  {\"ImportId\":\"ipAddress\"}   \n",
       "2                IP Address             74.233.53.167   \n",
       "3                IP Address             24.238.85.173   \n",
       "4                IP Address            159.146.101.21   \n",
       "...                     ...                       ...   \n",
       "2438             IP Address             72.189.240.60   \n",
       "2439             IP Address              104.58.27.21   \n",
       "2440             IP Address             184.15.49.184   \n",
       "2441             IP Address            70.191.168.181   \n",
       "2442             IP Address            192.228.105.21   \n",
       "\n",
       "                     Progress    Duration (in seconds)  \\\n",
       "0                    Progress    Duration (in seconds)   \n",
       "1     {\"ImportId\":\"progress\"}  {\"ImportId\":\"duration\"}   \n",
       "2                         100                      204   \n",
       "3                         100                      347   \n",
       "4                         100                      299   \n",
       "...                       ...                      ...   \n",
       "2438                       69                     1866   \n",
       "2439                       94                     2661   \n",
       "2440                       69                      312   \n",
       "2441                       94                    19242   \n",
       "2442                       32                    59110   \n",
       "\n",
       "                     Finished  \\\n",
       "0                    Finished   \n",
       "1     {\"ImportId\":\"finished\"}   \n",
       "2                        True   \n",
       "3                        True   \n",
       "4                        True   \n",
       "...                       ...   \n",
       "2438                    False   \n",
       "2439                    False   \n",
       "2440                    False   \n",
       "2441                    False   \n",
       "2442                    False   \n",
       "\n",
       "                                           RecordedDate  \\\n",
       "0                                         Recorded Date   \n",
       "1     {\"ImportId\":\"recordedDate\",\"timeZone\":\"America...   \n",
       "2                                   2019-05-18 12:39:45   \n",
       "3                                   2019-05-18 12:40:52   \n",
       "4                                   2019-05-18 12:40:54   \n",
       "...                                                 ...   \n",
       "2438                                2019-05-27 08:45:30   \n",
       "2439                                2019-05-27 08:51:59   \n",
       "2440                                2019-05-27 08:53:22   \n",
       "2441                                2019-05-27 11:46:31   \n",
       "2442                                2019-05-27 21:22:11   \n",
       "\n",
       "                    ResponseId                 RecipientLastName  ...  \\\n",
       "0                  Response ID               Recipient Last Name  ...   \n",
       "1     {\"ImportId\":\"_recordId\"}  {\"ImportId\":\"recipientLastName\"}  ...   \n",
       "2            R_2DZcHiPnsjQV7Jk                               NaN  ...   \n",
       "3            R_10obdOU9YNNFGvP                               NaN  ...   \n",
       "4            R_a5n73h3f444HB3H                               NaN  ...   \n",
       "...                        ...                               ...  ...   \n",
       "2438         R_2tM95SNxsMNLFAW                               NaN  ...   \n",
       "2439         R_232xSOx8mYgknGW                               NaN  ...   \n",
       "2440         R_3j8X7ni8csErlCf                               NaN  ...   \n",
       "2441         R_3Db8sRQKaCDSh5f                               NaN  ...   \n",
       "2442         R_TaNmzlv7UmfUT2p                               NaN  ...   \n",
       "\n",
       "                                       yellow adj_say_2  \\\n",
       "0     Please enter your best estimate of the first a...   \n",
       "1                              {\"ImportId\":\"QID1831_2\"}   \n",
       "2                                                   NaN   \n",
       "3                                                   NaN   \n",
       "4                                                   NaN   \n",
       "...                                                 ...   \n",
       "2438                                                NaN   \n",
       "2439                                                NaN   \n",
       "2440                                                NaN   \n",
       "2441                                                NaN   \n",
       "2442                                                NaN   \n",
       "\n",
       "                                       yellow adj_say_3  \\\n",
       "0     Please enter your best estimate of the first a...   \n",
       "1                              {\"ImportId\":\"QID1831_3\"}   \n",
       "2                                                   NaN   \n",
       "3                                                   NaN   \n",
       "4                                                   NaN   \n",
       "...                                                 ...   \n",
       "2438                                                NaN   \n",
       "2439                                                NaN   \n",
       "2440                                                NaN   \n",
       "2441                                                NaN   \n",
       "2442                                                NaN   \n",
       "\n",
       "                                       yellow adj_say_4  \\\n",
       "0     Please enter your best estimate of the first a...   \n",
       "1                              {\"ImportId\":\"QID1831_4\"}   \n",
       "2                                                   NaN   \n",
       "3                                                   NaN   \n",
       "4                                                   NaN   \n",
       "...                                                 ...   \n",
       "2438                                                NaN   \n",
       "2439                                                NaN   \n",
       "2440                                                NaN   \n",
       "2441                                                NaN   \n",
       "2442                                                NaN   \n",
       "\n",
       "                                        yucky adj_say_1  \\\n",
       "0     Please enter your best estimate of the first a...   \n",
       "1                              {\"ImportId\":\"QID1832_1\"}   \n",
       "2                                                   NaN   \n",
       "3                                                   NaN   \n",
       "4                                                   NaN   \n",
       "...                                                 ...   \n",
       "2438                                                NaN   \n",
       "2439                                                NaN   \n",
       "2440                                                NaN   \n",
       "2441                                                NaN   \n",
       "2442                                                NaN   \n",
       "\n",
       "                                        say_check 1_1.3  \\\n",
       "0     Please enter your best estimate of the first a...   \n",
       "1                              {\"ImportId\":\"QID1833_1\"}   \n",
       "2                                                   NaN   \n",
       "3                                                   NaN   \n",
       "4                                                   NaN   \n",
       "...                                                 ...   \n",
       "2438                                                NaN   \n",
       "2439                                                NaN   \n",
       "2440                                                NaN   \n",
       "2441                                                  5   \n",
       "2442                                                NaN   \n",
       "\n",
       "                                        say_check 2_1.3  \\\n",
       "0     Please enter your best estimate of the first a...   \n",
       "1                              {\"ImportId\":\"QID1834_1\"}   \n",
       "2                                                   NaN   \n",
       "3                                                   NaN   \n",
       "4                                                   NaN   \n",
       "...                                                 ...   \n",
       "2438                                                NaN   \n",
       "2439                                                NaN   \n",
       "2440                                                NaN   \n",
       "2441                                                NaN   \n",
       "2442                                                NaN   \n",
       "\n",
       "                                        say_check 3_1.3  \\\n",
       "0     Please enter your best estimate of the first a...   \n",
       "1                              {\"ImportId\":\"QID1835_1\"}   \n",
       "2                                                   NaN   \n",
       "3                                                   NaN   \n",
       "4                                                   NaN   \n",
       "...                                                 ...   \n",
       "2438                                                NaN   \n",
       "2439                                                NaN   \n",
       "2440                                                NaN   \n",
       "2441                                                NaN   \n",
       "2442                                                NaN   \n",
       "\n",
       "                                        say_check 4_1.3  \\\n",
       "0     Please enter your best estimate of the first a...   \n",
       "1                              {\"ImportId\":\"QID1836_1\"}   \n",
       "2                                                   NaN   \n",
       "3                                                   NaN   \n",
       "4                                                   NaN   \n",
       "...                                                 ...   \n",
       "2438                                                NaN   \n",
       "2439                                                NaN   \n",
       "2440                                                NaN   \n",
       "2441                                                NaN   \n",
       "2442                                                NaN   \n",
       "\n",
       "                                        say_check 5_1.3  \\\n",
       "0     Please enter your best estimate of the first a...   \n",
       "1                              {\"ImportId\":\"QID1837_1\"}   \n",
       "2                                                   NaN   \n",
       "3                                                   NaN   \n",
       "4                                                   NaN   \n",
       "...                                                 ...   \n",
       "2438                                                NaN   \n",
       "2439                                                NaN   \n",
       "2440                                                NaN   \n",
       "2441                                                NaN   \n",
       "2442                                                NaN   \n",
       "\n",
       "                     MTurkCode  \n",
       "0                    MTurkCode  \n",
       "1     {\"ImportId\":\"MTurkCode\"}  \n",
       "2                   8101920783  \n",
       "3                   8192628109  \n",
       "4                   2901063375  \n",
       "...                        ...  \n",
       "2438                9002638370  \n",
       "2439                9135011937  \n",
       "2440                 943332300  \n",
       "2441                1583881992  \n",
       "2442                4578916728  \n",
       "\n",
       "[2443 rows x 6801 columns]"
      ]
     },
     "execution_count": 4,
     "metadata": {},
     "output_type": "execute_result"
    }
   ],
   "source": [
    "raw_word_sense_text_entry_df"
   ]
  },
  {
   "cell_type": "code",
   "execution_count": 5,
   "metadata": {},
   "outputs": [],
   "source": [
    "question_dict = raw_word_sense_text_entry_df.loc[0].to_dict()"
   ]
  },
  {
   "cell_type": "markdown",
   "metadata": {},
   "source": [
    "<a id='no_consent'></a>\n",
    "Drop No Consent"
   ]
  },
  {
   "cell_type": "code",
   "execution_count": 6,
   "metadata": {},
   "outputs": [
    {
     "name": "stdout",
     "output_type": "stream",
     "text": [
      "2435 participants consented\n"
     ]
    }
   ],
   "source": [
    "word_sense_text_entry_df = raw_word_sense_text_entry_df[raw_word_sense_text_entry_df['Q3']=='I consent to participate in this study.']\n",
    "\n",
    "print(len(word_sense_text_entry_df), 'participants consented')"
   ]
  },
  {
   "cell_type": "code",
   "execution_count": 7,
   "metadata": {},
   "outputs": [
    {
     "data": {
      "text/plain": [
       "0.24580090126997134"
      ]
     },
     "execution_count": 7,
     "metadata": {},
     "output_type": "execute_result"
    }
   ],
   "source": [
    "(len(raw_word_sense_text_entry_df[raw_word_sense_text_entry_df['Q3']!='I consent to participate in this study.'])-2)/(len(raw_word_sense_text_entry_df)-2)*100"
   ]
  },
  {
   "cell_type": "markdown",
   "metadata": {},
   "source": [
    "Get Locations From IP"
   ]
  },
  {
   "cell_type": "code",
   "execution_count": 8,
   "metadata": {
    "scrolled": true
   },
   "outputs": [],
   "source": [
    "#takes a very long time to run\n",
    "#import urllib.request\n",
    "#import json\n",
    "#ip_df = pd.DataFrame({'ip': raw_word_sense_text_entry_df['IPAddress'][2:]})\n",
    "#def get_IP_Location(ip_address):\n",
    "#    with urllib.request.urlopen(\"https://geolocation-db.com/jsonp/\"+str(ip_address)) as url:\n",
    "#        data = url.read().decode()\n",
    "#        data = data.split(\"(\")[1].strip(\")\").split('{')[1].split(',')[1].split(':')[1].strip('\"')\n",
    "#        print(data)\n",
    "#    return(data)\n",
    "\n",
    "#ip_df['country'] = ip_df.ip.apply(get_IP_Location)\n",
    "\n",
    "#ip_df.to_csv(\"ip_to_country.csv\", index=False)\n",
    "\n",
    "ip_df = pd.read_csv(\"ip_to_country.csv\")"
   ]
  },
  {
   "cell_type": "code",
   "execution_count": 9,
   "metadata": {},
   "outputs": [],
   "source": [
    "word_sense_text_entry_df = pd.merge(word_sense_text_entry_df, ip_df, \n",
    "                                   left_on='IPAddress', right_on='ip', how='left')"
   ]
  },
  {
   "cell_type": "code",
   "execution_count": 10,
   "metadata": {},
   "outputs": [],
   "source": [
    "word_sense_text_entry_df = word_sense_text_entry_df[word_sense_text_entry_df['country']=='United States']\n",
    "word_sense_text_entry_df = word_sense_text_entry_df.drop(columns=['ip', 'country'])"
   ]
  },
  {
   "cell_type": "markdown",
   "metadata": {},
   "source": [
    "<a id='no_estimations'></a>\n",
    "Drop no estimations (maybe participants dropped the task?"
   ]
  },
  {
   "cell_type": "code",
   "execution_count": 11,
   "metadata": {},
   "outputs": [
    {
     "name": "stdout",
     "output_type": "stream",
     "text": [
      "Estimations for 2215 participants\n"
     ]
    }
   ],
   "source": [
    "mturk_tag_counts = word_sense_text_entry_df[word_sense_text_entry_df.columns[24:]][2:].set_index('MTurkCode').count(axis='columns').reset_index()\n",
    "drop_mturk = mturk_tag_counts[mturk_tag_counts[0]<=0].MTurkCode\n",
    "word_sense_text_entry_df = word_sense_text_entry_df[~word_sense_text_entry_df['MTurkCode'].isin(drop_mturk)]\n",
    "print('Estimations for', len(word_sense_text_entry_df), 'participants')"
   ]
  },
  {
   "cell_type": "code",
   "execution_count": 12,
   "metadata": {},
   "outputs": [
    {
     "data": {
      "text/plain": [
       "219"
      ]
     },
     "execution_count": 12,
     "metadata": {},
     "output_type": "execute_result"
    }
   ],
   "source": [
    "len(drop_mturk)"
   ]
  },
  {
   "cell_type": "markdown",
   "metadata": {},
   "source": [
    "Reindex and assign Participant IDs for analysis"
   ]
  },
  {
   "cell_type": "code",
   "execution_count": 13,
   "metadata": {},
   "outputs": [],
   "source": [
    "word_sense_text_entry_df.loc[:,'participant_id'] = np.arange(1,len(word_sense_text_entry_df)+1)\n",
    "word_sense_text_entry_df = word_sense_text_entry_df.set_index('participant_id')"
   ]
  },
  {
   "cell_type": "markdown",
   "metadata": {},
   "source": [
    "Reorganize Data"
   ]
  },
  {
   "cell_type": "code",
   "execution_count": 14,
   "metadata": {},
   "outputs": [
    {
     "data": {
      "text/html": [
       "<div>\n",
       "<style scoped>\n",
       "    .dataframe tbody tr th:only-of-type {\n",
       "        vertical-align: middle;\n",
       "    }\n",
       "\n",
       "    .dataframe tbody tr th {\n",
       "        vertical-align: top;\n",
       "    }\n",
       "\n",
       "    .dataframe thead th {\n",
       "        text-align: right;\n",
       "    }\n",
       "</style>\n",
       "<table border=\"1\" class=\"dataframe\">\n",
       "  <thead>\n",
       "    <tr style=\"text-align: right;\">\n",
       "      <th></th>\n",
       "      <th>question_group</th>\n",
       "      <th>0</th>\n",
       "    </tr>\n",
       "  </thead>\n",
       "  <tbody>\n",
       "    <tr>\n",
       "      <th>0</th>\n",
       "      <td>say</td>\n",
       "      <td>86887</td>\n",
       "    </tr>\n",
       "    <tr>\n",
       "      <th>1</th>\n",
       "      <td>understand</td>\n",
       "      <td>56657</td>\n",
       "    </tr>\n",
       "  </tbody>\n",
       "</table>\n",
       "</div>"
      ],
      "text/plain": [
       "  question_group      0\n",
       "0            say  86887\n",
       "1     understand  56657"
      ]
     },
     "execution_count": 14,
     "metadata": {},
     "output_type": "execute_result"
    }
   ],
   "source": [
    "imp.reload(data_cleaning)\n",
    "all_sense_estimation_df = data_cleaning.transformRawEstimations(word_sense_text_entry_df)\n",
    "\n",
    "all_sense_estimation_df.loc[:,'question_group'] = np.where(all_sense_estimation_df['sense_question'].str.contains('say'), 'say', 'understand')\n",
    "all_sense_estimation_df.loc[all_sense_estimation_df.question_type =='attention_check', 'question_group'] = 'attention'\n",
    "all_sense_estimation_df[all_sense_estimation_df['question_type']=='sense_question'].groupby(by='question_group').size().reset_index()"
   ]
  },
  {
   "cell_type": "code",
   "execution_count": 15,
   "metadata": {},
   "outputs": [
    {
     "data": {
      "text/plain": [
       "True"
      ]
     },
     "execution_count": 15,
     "metadata": {},
     "output_type": "execute_result"
    }
   ],
   "source": [
    "set(word_sense_text_entry_df.index) == set(all_sense_estimation_df.participant_id)"
   ]
  },
  {
   "cell_type": "code",
   "execution_count": 16,
   "metadata": {},
   "outputs": [
    {
     "data": {
      "text/html": [
       "<div>\n",
       "<style scoped>\n",
       "    .dataframe tbody tr th:only-of-type {\n",
       "        vertical-align: middle;\n",
       "    }\n",
       "\n",
       "    .dataframe tbody tr th {\n",
       "        vertical-align: top;\n",
       "    }\n",
       "\n",
       "    .dataframe thead th {\n",
       "        text-align: right;\n",
       "    }\n",
       "</style>\n",
       "<table border=\"1\" class=\"dataframe\">\n",
       "  <thead>\n",
       "    <tr style=\"text-align: right;\">\n",
       "      <th></th>\n",
       "      <th>participant_id</th>\n",
       "      <th>sense_question</th>\n",
       "      <th>aoa_estimation</th>\n",
       "      <th>question_type</th>\n",
       "      <th>question_group</th>\n",
       "    </tr>\n",
       "  </thead>\n",
       "  <tbody>\n",
       "    <tr>\n",
       "      <th>3290</th>\n",
       "      <td>30</td>\n",
       "      <td>cover v_say_16</td>\n",
       "      <td>9.0</td>\n",
       "      <td>sense_question</td>\n",
       "      <td>say</td>\n",
       "    </tr>\n",
       "    <tr>\n",
       "      <th>47454</th>\n",
       "      <td>506</td>\n",
       "      <td>fall v_understand_10</td>\n",
       "      <td>7.0</td>\n",
       "      <td>sense_question</td>\n",
       "      <td>understand</td>\n",
       "    </tr>\n",
       "    <tr>\n",
       "      <th>24800</th>\n",
       "      <td>245</td>\n",
       "      <td>bedroom calibration_say_1</td>\n",
       "      <td>2.0</td>\n",
       "      <td>calibration</td>\n",
       "      <td>say</td>\n",
       "    </tr>\n",
       "    <tr>\n",
       "      <th>100824</th>\n",
       "      <td>1111</td>\n",
       "      <td>shopping v_understand_2</td>\n",
       "      <td>4.0</td>\n",
       "      <td>sense_question</td>\n",
       "      <td>understand</td>\n",
       "    </tr>\n",
       "    <tr>\n",
       "      <th>15030</th>\n",
       "      <td>141</td>\n",
       "      <td>say_check 1_1.1</td>\n",
       "      <td>5.0</td>\n",
       "      <td>attention_check</td>\n",
       "      <td>attention</td>\n",
       "    </tr>\n",
       "  </tbody>\n",
       "</table>\n",
       "</div>"
      ],
      "text/plain": [
       "       participant_id             sense_question  aoa_estimation  \\\n",
       "3290               30             cover v_say_16             9.0   \n",
       "47454             506       fall v_understand_10             7.0   \n",
       "24800             245  bedroom calibration_say_1             2.0   \n",
       "100824           1111    shopping v_understand_2             4.0   \n",
       "15030             141            say_check 1_1.1             5.0   \n",
       "\n",
       "          question_type question_group  \n",
       "3290     sense_question            say  \n",
       "47454    sense_question     understand  \n",
       "24800       calibration            say  \n",
       "100824   sense_question     understand  \n",
       "15030   attention_check      attention  "
      ]
     },
     "execution_count": 16,
     "metadata": {},
     "output_type": "execute_result"
    }
   ],
   "source": [
    "all_sense_estimation_df.sample(5)"
   ]
  },
  {
   "cell_type": "markdown",
   "metadata": {},
   "source": [
    "Data Cleaning"
   ]
  },
  {
   "cell_type": "markdown",
   "metadata": {},
   "source": [
    "Drop for failing more than one attention check\n",
    "<a id='attention_check'></a>"
   ]
  },
  {
   "cell_type": "code",
   "execution_count": 17,
   "metadata": {},
   "outputs": [
    {
     "name": "stdout",
     "output_type": "stream",
     "text": [
      "attention check questions:\n",
      "['say_check 1_1', 'say_check 1_1.3', 'say_check 3_1.1', 'understand_check 4_1.1', 'understand_check 4_1', 'say_check 1_1.2', 'say_check 1_1.1', 'say_check 3_1', 'say_check 4_1', 'say_check 3_1.2', 'say_check 4_1.2', 'say_check 2_1.2', 'say_check 2_1.1', 'understand_check 2_1.1', 'understand_check 3_1.1', 'say_check 2_1', 'understand_check 1_1.1', 'understand_check 3_1', 'understand_check 2_1', 'say_check 3_1.3', 'say_check 4_1.1', 'say_check 4_1.3', 'say_check 2_1.3', 'understand_check 1_1']\n",
      "\n",
      "attention check answers:\n",
      "['5', '5', '3', '10', '10', '5', '5', '3', '10', '3', '10', '9', '9', '9', '3', '9', '5', '3', '9', '3', '10', '10', '9', '5']\n",
      "\n",
      "num attention checks:  24\n"
     ]
    }
   ],
   "source": [
    "attention_checks = list(set(all_sense_estimation_df[all_sense_estimation_df['question_type']=='attention_check'].sense_question))\n",
    "calibrations = list(set(all_sense_estimation_df[all_sense_estimation_df['question_type']=='calibration'].sense_question))\n",
    "\n",
    "print('attention check questions:')\n",
    "print(attention_checks)\n",
    "print('\\nattention check answers:')\n",
    "print([(question_dict[check].split(\" \")[-1].replace('\"', '')) for check in attention_checks])\n",
    "\n",
    "print('\\nnum attention checks: ', len(attention_checks))"
   ]
  },
  {
   "cell_type": "code",
   "execution_count": 18,
   "metadata": {},
   "outputs": [],
   "source": [
    "#failing all 4\n",
    "imp.reload(data_cleaning)\n",
    "skipped_check, failed_check = data_cleaning.getFailedAttentionChecks(all_sense_estimation_df, question_dict)"
   ]
  },
  {
   "cell_type": "code",
   "execution_count": 188,
   "metadata": {},
   "outputs": [],
   "source": [
    "clean_sense_survey = all_sense_estimation_df[~all_sense_estimation_df['participant_id'].isin(failed_check+skipped_check)]"
   ]
  },
  {
   "cell_type": "code",
   "execution_count": 178,
   "metadata": {
    "scrolled": true
   },
   "outputs": [
    {
     "name": "stdout",
     "output_type": "stream",
     "text": [
      "188 participants skipped or didn't recive at least 4 attention checks\n",
      "206 participants failed at least 1 attention check\n",
      "1822 remaining participants\n"
     ]
    }
   ],
   "source": [
    "print(len(skipped_check), \"participants skipped or didn't recive at least 4 attention checks\")\n",
    "print(len(failed_check), \"participants failed at least 1 attention check\")\n",
    "print(len(set(clean_sense_survey.participant_id)), \"remaining participants\")"
   ]
  },
  {
   "cell_type": "code",
   "execution_count": 118,
   "metadata": {
    "scrolled": true
   },
   "outputs": [],
   "source": [
    "#allowed to fail/skip one\n",
    "imp.reload(data_cleaning)\n",
    "skipped_one_check, failed_one_check = data_cleaning.getFailedAttentionChecks(all_sense_estimation_df, question_dict,num_to_pass=3)"
   ]
  },
  {
   "cell_type": "code",
   "execution_count": 119,
   "metadata": {},
   "outputs": [],
   "source": [
    "clean_one_sense_survey = all_sense_estimation_df[~all_sense_estimation_df['participant_id'].isin(failed_one_check+skipped_one_check)]"
   ]
  },
  {
   "cell_type": "code",
   "execution_count": 120,
   "metadata": {},
   "outputs": [
    {
     "name": "stdout",
     "output_type": "stream",
     "text": [
      "170 participants skipped or didn't recive at least 3 attention checks\n",
      "59 participants failed more than one attention check\n",
      "1987 remaining participants\n"
     ]
    }
   ],
   "source": [
    "print(len(skipped_one_check), \"participants skipped or didn't recive at least 3 attention checks\")\n",
    "print(len(failed_one_check), \"participants failed more than one attention check\")\n",
    "print(len(set(clean_one_sense_survey.participant_id)), \"remaining participants\")"
   ]
  },
  {
   "cell_type": "code",
   "execution_count": 179,
   "metadata": {},
   "outputs": [],
   "source": [
    "#pick which to drop - drop everyone\n",
    "clean_sense_survey = clean_sense_survey"
   ]
  },
  {
   "cell_type": "code",
   "execution_count": 180,
   "metadata": {},
   "outputs": [
    {
     "data": {
      "text/plain": [
       "StartDate                                           2019-05-18 12:36:36\n",
       "EndDate                                             2019-05-18 12:43:41\n",
       "Status                                                       IP Address\n",
       "IPAddress                                                  24.131.39.74\n",
       "Progress                                                            100\n",
       "Duration (in seconds)                                               424\n",
       "Finished                                                           True\n",
       "RecordedDate                                        2019-05-18 12:43:43\n",
       "ResponseId                                            R_O6vxEkiM7t4D0Gd\n",
       "RecipientLastName                                                   NaN\n",
       "RecipientFirstName                                                  NaN\n",
       "RecipientEmail                                                      NaN\n",
       "ExternalReference                                                   NaN\n",
       "LocationLatitude                                    33.6934051513671875\n",
       "LocationLongitude                                      -84.447998046875\n",
       "DistributionChannel                                           anonymous\n",
       "UserLanguage                                                         EN\n",
       "Q3                              I consent to participate in this study.\n",
       "eng                                                                 Yes\n",
       "gender                                                           Female\n",
       "gender_3_TEXT                                                       NaN\n",
       "age                                                                  34\n",
       "parent                                                              Yes\n",
       "edu                                                        Some college\n",
       "cat calibration_understand_1                                        NaN\n",
       "Name: 5, dtype: object"
      ]
     },
     "execution_count": 180,
     "metadata": {},
     "output_type": "execute_result"
    }
   ],
   "source": [
    "word_sense_text_entry_df.iloc[4][0:25]"
   ]
  },
  {
   "cell_type": "markdown",
   "metadata": {},
   "source": [
    "Drop non english first language\n",
    "<a id='esl'></a>"
   ]
  },
  {
   "cell_type": "code",
   "execution_count": 189,
   "metadata": {},
   "outputs": [
    {
     "name": "stdout",
     "output_type": "stream",
     "text": [
      "50 esl participants\n",
      "1772 remaining participants\n"
     ]
    }
   ],
   "source": [
    "raw_participant_metrics_df = word_sense_text_entry_df[['Duration (in seconds)', 'parent','gender','edu','eng','Finished']].reset_index()\n",
    "\n",
    "eng_first_lang = raw_participant_metrics_df[raw_participant_metrics_df['eng']=='Yes'].participant_id\n",
    "num_esl_dropped = len(set(clean_sense_survey[~clean_sense_survey['participant_id'].isin(eng_first_lang)].participant_id))\n",
    "print(num_esl_dropped, \"esl participants\")\n",
    "\n",
    "clean_sense_survey = clean_sense_survey[clean_sense_survey['participant_id'].isin(eng_first_lang)]\n",
    "print(len(set(clean_sense_survey.participant_id)), \"remaining participants\")"
   ]
  },
  {
   "cell_type": "code",
   "execution_count": 185,
   "metadata": {},
   "outputs": [
    {
     "data": {
      "text/plain": [
       "Yes    2154\n",
       "No       61\n",
       "Name: eng, dtype: int64"
      ]
     },
     "execution_count": 185,
     "metadata": {},
     "output_type": "execute_result"
    }
   ],
   "source": [
    "raw_participant_metrics_df.eng.value_counts()"
   ]
  },
  {
   "cell_type": "code",
   "execution_count": 124,
   "metadata": {},
   "outputs": [
    {
     "name": "stdout",
     "output_type": "stream",
     "text": [
      "Index(['participant_id', 'sense_question', 'aoa_estimation', 'question_type',\n",
      "       'question_group'],\n",
      "      dtype='object')\n",
      "Index(['aoa_estimation'], dtype='object')\n"
     ]
    },
    {
     "data": {
      "text/html": [
       "<div>\n",
       "<style scoped>\n",
       "    .dataframe tbody tr th:only-of-type {\n",
       "        vertical-align: middle;\n",
       "    }\n",
       "\n",
       "    .dataframe tbody tr th {\n",
       "        vertical-align: top;\n",
       "    }\n",
       "\n",
       "    .dataframe thead th {\n",
       "        text-align: right;\n",
       "    }\n",
       "</style>\n",
       "<table border=\"1\" class=\"dataframe\">\n",
       "  <thead>\n",
       "    <tr style=\"text-align: right;\">\n",
       "      <th></th>\n",
       "      <th>participant_id</th>\n",
       "      <th>Duration (in seconds)</th>\n",
       "      <th>parent</th>\n",
       "      <th>gender</th>\n",
       "      <th>edu</th>\n",
       "      <th>eng</th>\n",
       "      <th>Finished</th>\n",
       "      <th>num_calibration</th>\n",
       "      <th>mean_calibration</th>\n",
       "      <th>calibration_varience</th>\n",
       "      <th>num_senses</th>\n",
       "      <th>mean_sense_estimation</th>\n",
       "      <th>sense_estimation_varience</th>\n",
       "    </tr>\n",
       "  </thead>\n",
       "  <tbody>\n",
       "    <tr>\n",
       "      <th>0</th>\n",
       "      <td>4</td>\n",
       "      <td>238</td>\n",
       "      <td>Yes</td>\n",
       "      <td>Male</td>\n",
       "      <td>4-year college degree</td>\n",
       "      <td>Yes</td>\n",
       "      <td>True</td>\n",
       "      <td>12</td>\n",
       "      <td>3.083333</td>\n",
       "      <td>0.265152</td>\n",
       "      <td>100</td>\n",
       "      <td>5.73</td>\n",
       "      <td>1.532424</td>\n",
       "    </tr>\n",
       "    <tr>\n",
       "      <th>1</th>\n",
       "      <td>5</td>\n",
       "      <td>424</td>\n",
       "      <td>Yes</td>\n",
       "      <td>Female</td>\n",
       "      <td>Some college</td>\n",
       "      <td>Yes</td>\n",
       "      <td>True</td>\n",
       "      <td>12</td>\n",
       "      <td>4.416667</td>\n",
       "      <td>1.719697</td>\n",
       "      <td>100</td>\n",
       "      <td>6.56</td>\n",
       "      <td>4.733737</td>\n",
       "    </tr>\n",
       "    <tr>\n",
       "      <th>2</th>\n",
       "      <td>6</td>\n",
       "      <td>556</td>\n",
       "      <td>No</td>\n",
       "      <td>Female</td>\n",
       "      <td>2-year college degree</td>\n",
       "      <td>Yes</td>\n",
       "      <td>True</td>\n",
       "      <td>12</td>\n",
       "      <td>6.166667</td>\n",
       "      <td>35.060606</td>\n",
       "      <td>100</td>\n",
       "      <td>9.51</td>\n",
       "      <td>15.323131</td>\n",
       "    </tr>\n",
       "  </tbody>\n",
       "</table>\n",
       "</div>"
      ],
      "text/plain": [
       "   participant_id Duration (in seconds) parent  gender                    edu  \\\n",
       "0               4                   238    Yes    Male  4-year college degree   \n",
       "1               5                   424    Yes  Female           Some college   \n",
       "2               6                   556     No  Female  2-year college degree   \n",
       "\n",
       "   eng Finished  num_calibration  mean_calibration  calibration_varience  \\\n",
       "0  Yes     True               12          3.083333              0.265152   \n",
       "1  Yes     True               12          4.416667              1.719697   \n",
       "2  Yes     True               12          6.166667             35.060606   \n",
       "\n",
       "   num_senses  mean_sense_estimation  sense_estimation_varience  \n",
       "0         100                   5.73                   1.532424  \n",
       "1         100                   6.56                   4.733737  \n",
       "2         100                   9.51                  15.323131  "
      ]
     },
     "execution_count": 124,
     "metadata": {},
     "output_type": "execute_result"
    }
   ],
   "source": [
    "imp.reload(data_cleaning)\n",
    "participant_metrics_df = pd.merge(participant_metrics_df,\n",
    "                                 data_cleaning.getParticipantMetrics(clean_sense_survey).reset_index(),\n",
    "                                 left_on = 'participant_id',\n",
    "                                 right_on='participant_id',\n",
    "                                 how='inner')\n",
    "participant_metrics_df.head(3)"
   ]
  },
  {
   "cell_type": "code",
   "execution_count": 126,
   "metadata": {},
   "outputs": [
    {
     "name": "stdout",
     "output_type": "stream",
     "text": [
      "5 dropped no variation\n"
     ]
    }
   ],
   "source": [
    "#drop participants with no variation in calibration - they mess up spearmans\n",
    "bad_participants = participant_metrics_df[participant_metrics_df['calibration_varience']==0].participant_id\n",
    "clean_sense_survey = clean_sense_survey[~clean_sense_survey['participant_id'].isin(bad_participants)]\n",
    "print(len(bad_participants), \"dropped no variation\")"
   ]
  },
  {
   "cell_type": "markdown",
   "metadata": {},
   "source": [
    "## Ratio Drop\n",
    "calulate the ratio of estimations for later aquited vs early aquired calibration senses to weed out terrible calibrations before spearmans"
   ]
  },
  {
   "cell_type": "code",
   "execution_count": 127,
   "metadata": {},
   "outputs": [],
   "source": [
    "late_questions = ['keys','sheep','block','pen','living','drive']\n",
    "early_questions = ['candy','bedroom','cat','leg','grandma','tickle']"
   ]
  },
  {
   "cell_type": "code",
   "execution_count": 128,
   "metadata": {},
   "outputs": [],
   "source": [
    "clean_sense_survey['target_word'] = clean_sense_survey.sense_question.apply(lambda word: word.split(\" \")[0])"
   ]
  },
  {
   "cell_type": "code",
   "execution_count": 129,
   "metadata": {},
   "outputs": [],
   "source": [
    "calibration_entires = clean_sense_survey[clean_sense_survey['question_type']=='calibration']\n",
    "calibration_entires['calibration_group'] = calibration_entires.target_word.apply(lambda word: 'late' if word in late_questions else 'early')"
   ]
  },
  {
   "cell_type": "code",
   "execution_count": 130,
   "metadata": {},
   "outputs": [],
   "source": [
    "# for each participant, get the average early, average late, and ratio\n",
    "\n",
    "early_sense_mean = []\n",
    "late_sense_mean = []\n",
    "late_vs_early = []\n",
    "participant_id = []\n",
    "\n",
    "for participant in set(calibration_entires.participant_id):\n",
    "    part_senses = calibration_entires[calibration_entires['participant_id']==participant]\n",
    "    early = part_senses[part_senses['calibration_group']=='early'].aoa_estimation.mean()\n",
    "    late = part_senses[part_senses['calibration_group']=='late'].aoa_estimation.mean()\n",
    "    early_sense_mean.append(early)\n",
    "    late_sense_mean.append(late)\n",
    "    #print(participant, round(late/early))\n",
    "    late_vs_early.append(late/early)\n",
    "    participant_id.append(participant)\n",
    "\n",
    "early_aquired_df = pd.DataFrame({'participant_id':participant_id, \n",
    "                                 'early_sense_mean':early_sense_mean,\n",
    "                                 'late_sense_mean':late_sense_mean,\n",
    "                                'late_vs_early':late_vs_early})"
   ]
  },
  {
   "cell_type": "code",
   "execution_count": 131,
   "metadata": {},
   "outputs": [],
   "source": [
    "early_aquired_df = early_aquired_df[early_aquired_df['participant_id']!=827]\n",
    "%R -i early_aquired_df"
   ]
  },
  {
   "cell_type": "code",
   "execution_count": 132,
   "metadata": {},
   "outputs": [
    {
     "data": {
      "image/png": "[encoded data removed]"
     },
     "metadata": {},
     "output_type": "display_data"
    }
   ],
   "source": [
    "%%R -w 600 -h 300\n",
    "library(PNWColors)\n",
    "pal <- pnw_palette(\"Bay\",1, type = \"discrete\")\n",
    "color_scale <- scale_fill_manual(values=pal)\n",
    "\n",
    "ggplot(early_aquired_df, aes(x=late_vs_early)) + geom_histogram(bins=75, color='black', fill=pal) + \n",
    "theme_minimal()+color_scale + labs(title = \"Late vs Early Aoa Estimation Ration\", \n",
    "                       subtitle='Mean AoA Late Senses / Mean AoA Early Senses',\n",
    "                       y='Num Participants',\n",
    "                       x='Late Sense Aoa/ Early Sense Aoa')"
   ]
  },
  {
   "cell_type": "code",
   "execution_count": 135,
   "metadata": {},
   "outputs": [
    {
     "data": {
      "text/plain": [
       "<matplotlib.axes._subplots.AxesSubplot at 0x11dcbdb10>"
      ]
     },
     "execution_count": 135,
     "metadata": {},
     "output_type": "execute_result"
    },
    {
     "data": {
      "image/png": "[encoded data removed]",
      "text/plain": [
       "<Figure size 432x288 with 1 Axes>"
      ]
     },
     "metadata": {
      "needs_background": "light"
     },
     "output_type": "display_data"
    }
   ],
   "source": [
    "early_aquired_df.late_vs_early.hist(bins=75)"
   ]
  },
  {
   "cell_type": "code",
   "execution_count": 152,
   "metadata": {},
   "outputs": [],
   "source": [
    "# drop any participant whos ratio is <1\n",
    "poor_participant = early_aquired_df[early_aquired_df['late_vs_early']<=2].participant_id\n",
    "calibration_entires = calibration_entires[~calibration_entires['participant_id'].isin(poor_participant)]\n",
    "clean_sense_survey = clean_sense_survey[~clean_sense_survey['participant_id'].isin(poor_participant)]"
   ]
  },
  {
   "cell_type": "code",
   "execution_count": 139,
   "metadata": {},
   "outputs": [
    {
     "data": {
      "text/html": [
       "<div>\n",
       "<style scoped>\n",
       "    .dataframe tbody tr th:only-of-type {\n",
       "        vertical-align: middle;\n",
       "    }\n",
       "\n",
       "    .dataframe tbody tr th {\n",
       "        vertical-align: top;\n",
       "    }\n",
       "\n",
       "    .dataframe thead th {\n",
       "        text-align: right;\n",
       "    }\n",
       "</style>\n",
       "<table border=\"1\" class=\"dataframe\">\n",
       "  <thead>\n",
       "    <tr style=\"text-align: right;\">\n",
       "      <th></th>\n",
       "      <th>participant_id</th>\n",
       "      <th>sense_question</th>\n",
       "      <th>aoa_estimation</th>\n",
       "      <th>question_type</th>\n",
       "      <th>question_group</th>\n",
       "      <th>target_word</th>\n",
       "      <th>calibration_group</th>\n",
       "    </tr>\n",
       "  </thead>\n",
       "  <tbody>\n",
       "    <tr>\n",
       "      <th>100762</th>\n",
       "      <td>1111</td>\n",
       "      <td>cat calibration_understand_1</td>\n",
       "      <td>1.0</td>\n",
       "      <td>calibration</td>\n",
       "      <td>understand</td>\n",
       "      <td>cat</td>\n",
       "      <td>early</td>\n",
       "    </tr>\n",
       "    <tr>\n",
       "      <th>100763</th>\n",
       "      <td>1111</td>\n",
       "      <td>candy calibration_understand_1</td>\n",
       "      <td>1.0</td>\n",
       "      <td>calibration</td>\n",
       "      <td>understand</td>\n",
       "      <td>candy</td>\n",
       "      <td>early</td>\n",
       "    </tr>\n",
       "    <tr>\n",
       "      <th>100764</th>\n",
       "      <td>1111</td>\n",
       "      <td>bedroom calibration_understand_1</td>\n",
       "      <td>2.0</td>\n",
       "      <td>calibration</td>\n",
       "      <td>understand</td>\n",
       "      <td>bedroom</td>\n",
       "      <td>early</td>\n",
       "    </tr>\n",
       "    <tr>\n",
       "      <th>100765</th>\n",
       "      <td>1111</td>\n",
       "      <td>leg calibration_understand_1</td>\n",
       "      <td>1.0</td>\n",
       "      <td>calibration</td>\n",
       "      <td>understand</td>\n",
       "      <td>leg</td>\n",
       "      <td>early</td>\n",
       "    </tr>\n",
       "    <tr>\n",
       "      <th>100766</th>\n",
       "      <td>1111</td>\n",
       "      <td>grandma calibration_understand_1</td>\n",
       "      <td>1.0</td>\n",
       "      <td>calibration</td>\n",
       "      <td>understand</td>\n",
       "      <td>grandma</td>\n",
       "      <td>early</td>\n",
       "    </tr>\n",
       "    <tr>\n",
       "      <th>100767</th>\n",
       "      <td>1111</td>\n",
       "      <td>tickle calibration_understand_1</td>\n",
       "      <td>1.0</td>\n",
       "      <td>calibration</td>\n",
       "      <td>understand</td>\n",
       "      <td>tickle</td>\n",
       "      <td>early</td>\n",
       "    </tr>\n",
       "    <tr>\n",
       "      <th>100768</th>\n",
       "      <td>1111</td>\n",
       "      <td>living calibration_understand_1</td>\n",
       "      <td>16.0</td>\n",
       "      <td>calibration</td>\n",
       "      <td>understand</td>\n",
       "      <td>living</td>\n",
       "      <td>late</td>\n",
       "    </tr>\n",
       "    <tr>\n",
       "      <th>100769</th>\n",
       "      <td>1111</td>\n",
       "      <td>block calibration_understand_1</td>\n",
       "      <td>25.0</td>\n",
       "      <td>calibration</td>\n",
       "      <td>understand</td>\n",
       "      <td>block</td>\n",
       "      <td>late</td>\n",
       "    </tr>\n",
       "    <tr>\n",
       "      <th>100770</th>\n",
       "      <td>1111</td>\n",
       "      <td>keys calibration_understand_1</td>\n",
       "      <td>10.0</td>\n",
       "      <td>calibration</td>\n",
       "      <td>understand</td>\n",
       "      <td>keys</td>\n",
       "      <td>late</td>\n",
       "    </tr>\n",
       "    <tr>\n",
       "      <th>100771</th>\n",
       "      <td>1111</td>\n",
       "      <td>sheep calibration_understand_1</td>\n",
       "      <td>25.0</td>\n",
       "      <td>calibration</td>\n",
       "      <td>understand</td>\n",
       "      <td>sheep</td>\n",
       "      <td>late</td>\n",
       "    </tr>\n",
       "    <tr>\n",
       "      <th>100772</th>\n",
       "      <td>1111</td>\n",
       "      <td>pen calibration_understand_1</td>\n",
       "      <td>21.0</td>\n",
       "      <td>calibration</td>\n",
       "      <td>understand</td>\n",
       "      <td>pen</td>\n",
       "      <td>late</td>\n",
       "    </tr>\n",
       "    <tr>\n",
       "      <th>100773</th>\n",
       "      <td>1111</td>\n",
       "      <td>drive calibration_understand_1</td>\n",
       "      <td>15.0</td>\n",
       "      <td>calibration</td>\n",
       "      <td>understand</td>\n",
       "      <td>drive</td>\n",
       "      <td>late</td>\n",
       "    </tr>\n",
       "  </tbody>\n",
       "</table>\n",
       "</div>"
      ],
      "text/plain": [
       "       participant_id                    sense_question  aoa_estimation  \\\n",
       "100762           1111      cat calibration_understand_1             1.0   \n",
       "100763           1111    candy calibration_understand_1             1.0   \n",
       "100764           1111  bedroom calibration_understand_1             2.0   \n",
       "100765           1111      leg calibration_understand_1             1.0   \n",
       "100766           1111  grandma calibration_understand_1             1.0   \n",
       "100767           1111   tickle calibration_understand_1             1.0   \n",
       "100768           1111   living calibration_understand_1            16.0   \n",
       "100769           1111    block calibration_understand_1            25.0   \n",
       "100770           1111     keys calibration_understand_1            10.0   \n",
       "100771           1111    sheep calibration_understand_1            25.0   \n",
       "100772           1111      pen calibration_understand_1            21.0   \n",
       "100773           1111    drive calibration_understand_1            15.0   \n",
       "\n",
       "       question_type question_group target_word calibration_group  \n",
       "100762   calibration     understand         cat             early  \n",
       "100763   calibration     understand       candy             early  \n",
       "100764   calibration     understand     bedroom             early  \n",
       "100765   calibration     understand         leg             early  \n",
       "100766   calibration     understand     grandma             early  \n",
       "100767   calibration     understand      tickle             early  \n",
       "100768   calibration     understand      living              late  \n",
       "100769   calibration     understand       block              late  \n",
       "100770   calibration     understand        keys              late  \n",
       "100771   calibration     understand       sheep              late  \n",
       "100772   calibration     understand         pen              late  \n",
       "100773   calibration     understand       drive              late  "
      ]
     },
     "execution_count": 139,
     "metadata": {},
     "output_type": "execute_result"
    }
   ],
   "source": [
    "calibration_entires[calibration_entires['participant_id']==1111]"
   ]
  },
  {
   "cell_type": "code",
   "execution_count": 140,
   "metadata": {},
   "outputs": [
    {
     "data": {
      "text/html": [
       "<div>\n",
       "<style scoped>\n",
       "    .dataframe tbody tr th:only-of-type {\n",
       "        vertical-align: middle;\n",
       "    }\n",
       "\n",
       "    .dataframe tbody tr th {\n",
       "        vertical-align: top;\n",
       "    }\n",
       "\n",
       "    .dataframe thead th {\n",
       "        text-align: right;\n",
       "    }\n",
       "</style>\n",
       "<table border=\"1\" class=\"dataframe\">\n",
       "  <thead>\n",
       "    <tr style=\"text-align: right;\">\n",
       "      <th></th>\n",
       "      <th>participant_id</th>\n",
       "      <th>early_sense_mean</th>\n",
       "      <th>late_sense_mean</th>\n",
       "      <th>late_vs_early</th>\n",
       "    </tr>\n",
       "  </thead>\n",
       "  <tbody>\n",
       "    <tr>\n",
       "      <th>681</th>\n",
       "      <td>789</td>\n",
       "      <td>8.500000</td>\n",
       "      <td>2.833333</td>\n",
       "      <td>0.333333</td>\n",
       "    </tr>\n",
       "    <tr>\n",
       "      <th>178</th>\n",
       "      <td>214</td>\n",
       "      <td>15.000000</td>\n",
       "      <td>6.500000</td>\n",
       "      <td>0.433333</td>\n",
       "    </tr>\n",
       "    <tr>\n",
       "      <th>177</th>\n",
       "      <td>213</td>\n",
       "      <td>15.000000</td>\n",
       "      <td>6.500000</td>\n",
       "      <td>0.433333</td>\n",
       "    </tr>\n",
       "    <tr>\n",
       "      <th>828</th>\n",
       "      <td>954</td>\n",
       "      <td>5.000000</td>\n",
       "      <td>2.500000</td>\n",
       "      <td>0.500000</td>\n",
       "    </tr>\n",
       "    <tr>\n",
       "      <th>159</th>\n",
       "      <td>191</td>\n",
       "      <td>14.833333</td>\n",
       "      <td>7.500000</td>\n",
       "      <td>0.505618</td>\n",
       "    </tr>\n",
       "    <tr>\n",
       "      <th>...</th>\n",
       "      <td>...</td>\n",
       "      <td>...</td>\n",
       "      <td>...</td>\n",
       "      <td>...</td>\n",
       "    </tr>\n",
       "    <tr>\n",
       "      <th>268</th>\n",
       "      <td>324</td>\n",
       "      <td>2.500000</td>\n",
       "      <td>29.666667</td>\n",
       "      <td>11.866667</td>\n",
       "    </tr>\n",
       "    <tr>\n",
       "      <th>682</th>\n",
       "      <td>790</td>\n",
       "      <td>1.000000</td>\n",
       "      <td>12.000000</td>\n",
       "      <td>12.000000</td>\n",
       "    </tr>\n",
       "    <tr>\n",
       "      <th>1553</th>\n",
       "      <td>1774</td>\n",
       "      <td>1.000000</td>\n",
       "      <td>12.500000</td>\n",
       "      <td>12.500000</td>\n",
       "    </tr>\n",
       "    <tr>\n",
       "      <th>886</th>\n",
       "      <td>1023</td>\n",
       "      <td>1.000000</td>\n",
       "      <td>14.833333</td>\n",
       "      <td>14.833333</td>\n",
       "    </tr>\n",
       "    <tr>\n",
       "      <th>964</th>\n",
       "      <td>1111</td>\n",
       "      <td>1.166667</td>\n",
       "      <td>18.666667</td>\n",
       "      <td>16.000000</td>\n",
       "    </tr>\n",
       "  </tbody>\n",
       "</table>\n",
       "<p>1766 rows × 4 columns</p>\n",
       "</div>"
      ],
      "text/plain": [
       "      participant_id  early_sense_mean  late_sense_mean  late_vs_early\n",
       "681              789          8.500000         2.833333       0.333333\n",
       "178              214         15.000000         6.500000       0.433333\n",
       "177              213         15.000000         6.500000       0.433333\n",
       "828              954          5.000000         2.500000       0.500000\n",
       "159              191         14.833333         7.500000       0.505618\n",
       "...              ...               ...              ...            ...\n",
       "268              324          2.500000        29.666667      11.866667\n",
       "682              790          1.000000        12.000000      12.000000\n",
       "1553            1774          1.000000        12.500000      12.500000\n",
       "886             1023          1.000000        14.833333      14.833333\n",
       "964             1111          1.166667        18.666667      16.000000\n",
       "\n",
       "[1766 rows x 4 columns]"
      ]
     },
     "execution_count": 140,
     "metadata": {},
     "output_type": "execute_result"
    }
   ],
   "source": [
    "early_aquired_df.sort_values(by=['late_vs_early'])"
   ]
  },
  {
   "cell_type": "code",
   "execution_count": 141,
   "metadata": {},
   "outputs": [
    {
     "name": "stdout",
     "output_type": "stream",
     "text": [
      "385 participants dropped\n",
      "1216 participants remaining\n"
     ]
    }
   ],
   "source": [
    "print(len(poor_participant), 'participants dropped')\n",
    "print(len(set(calibration_entires.participant_id)), 'participants remaining')"
   ]
  },
  {
   "cell_type": "code",
   "execution_count": 144,
   "metadata": {},
   "outputs": [
    {
     "data": {
      "text/html": [
       "<div>\n",
       "<style scoped>\n",
       "    .dataframe tbody tr th:only-of-type {\n",
       "        vertical-align: middle;\n",
       "    }\n",
       "\n",
       "    .dataframe tbody tr th {\n",
       "        vertical-align: top;\n",
       "    }\n",
       "\n",
       "    .dataframe thead th {\n",
       "        text-align: right;\n",
       "    }\n",
       "</style>\n",
       "<table border=\"1\" class=\"dataframe\">\n",
       "  <thead>\n",
       "    <tr style=\"text-align: right;\">\n",
       "      <th></th>\n",
       "      <th>participant_id</th>\n",
       "      <th>sense_question</th>\n",
       "      <th>aoa_estimation</th>\n",
       "      <th>question_type</th>\n",
       "      <th>question_group</th>\n",
       "      <th>target_word</th>\n",
       "      <th>calibration_group</th>\n",
       "    </tr>\n",
       "  </thead>\n",
       "  <tbody>\n",
       "    <tr>\n",
       "      <th>580</th>\n",
       "      <td>6</td>\n",
       "      <td>cat calibration_say_1</td>\n",
       "      <td>2.0</td>\n",
       "      <td>calibration</td>\n",
       "      <td>say</td>\n",
       "      <td>cat</td>\n",
       "      <td>early</td>\n",
       "    </tr>\n",
       "    <tr>\n",
       "      <th>581</th>\n",
       "      <td>6</td>\n",
       "      <td>candy calibration_say_1</td>\n",
       "      <td>2.0</td>\n",
       "      <td>calibration</td>\n",
       "      <td>say</td>\n",
       "      <td>candy</td>\n",
       "      <td>early</td>\n",
       "    </tr>\n",
       "    <tr>\n",
       "      <th>582</th>\n",
       "      <td>6</td>\n",
       "      <td>bedroom calibration_say_1</td>\n",
       "      <td>4.0</td>\n",
       "      <td>calibration</td>\n",
       "      <td>say</td>\n",
       "      <td>bedroom</td>\n",
       "      <td>early</td>\n",
       "    </tr>\n",
       "    <tr>\n",
       "      <th>583</th>\n",
       "      <td>6</td>\n",
       "      <td>leg calibration_say_1</td>\n",
       "      <td>2.0</td>\n",
       "      <td>calibration</td>\n",
       "      <td>say</td>\n",
       "      <td>leg</td>\n",
       "      <td>early</td>\n",
       "    </tr>\n",
       "    <tr>\n",
       "      <th>584</th>\n",
       "      <td>6</td>\n",
       "      <td>grandma calibration_say_1</td>\n",
       "      <td>2.0</td>\n",
       "      <td>calibration</td>\n",
       "      <td>say</td>\n",
       "      <td>grandma</td>\n",
       "      <td>early</td>\n",
       "    </tr>\n",
       "    <tr>\n",
       "      <th>...</th>\n",
       "      <td>...</td>\n",
       "      <td>...</td>\n",
       "      <td>...</td>\n",
       "      <td>...</td>\n",
       "      <td>...</td>\n",
       "      <td>...</td>\n",
       "      <td>...</td>\n",
       "    </tr>\n",
       "    <tr>\n",
       "      <th>177561</th>\n",
       "      <td>2207</td>\n",
       "      <td>block calibration_understand_1</td>\n",
       "      <td>11.0</td>\n",
       "      <td>calibration</td>\n",
       "      <td>understand</td>\n",
       "      <td>block</td>\n",
       "      <td>late</td>\n",
       "    </tr>\n",
       "    <tr>\n",
       "      <th>177562</th>\n",
       "      <td>2207</td>\n",
       "      <td>keys calibration_understand_1</td>\n",
       "      <td>8.0</td>\n",
       "      <td>calibration</td>\n",
       "      <td>understand</td>\n",
       "      <td>keys</td>\n",
       "      <td>late</td>\n",
       "    </tr>\n",
       "    <tr>\n",
       "      <th>177563</th>\n",
       "      <td>2207</td>\n",
       "      <td>sheep calibration_understand_1</td>\n",
       "      <td>9.0</td>\n",
       "      <td>calibration</td>\n",
       "      <td>understand</td>\n",
       "      <td>sheep</td>\n",
       "      <td>late</td>\n",
       "    </tr>\n",
       "    <tr>\n",
       "      <th>177564</th>\n",
       "      <td>2207</td>\n",
       "      <td>pen calibration_understand_1</td>\n",
       "      <td>9.0</td>\n",
       "      <td>calibration</td>\n",
       "      <td>understand</td>\n",
       "      <td>pen</td>\n",
       "      <td>late</td>\n",
       "    </tr>\n",
       "    <tr>\n",
       "      <th>177565</th>\n",
       "      <td>2207</td>\n",
       "      <td>drive calibration_understand_1</td>\n",
       "      <td>11.0</td>\n",
       "      <td>calibration</td>\n",
       "      <td>understand</td>\n",
       "      <td>drive</td>\n",
       "      <td>late</td>\n",
       "    </tr>\n",
       "  </tbody>\n",
       "</table>\n",
       "<p>14592 rows × 7 columns</p>\n",
       "</div>"
      ],
      "text/plain": [
       "       participant_id                  sense_question  aoa_estimation  \\\n",
       "580                 6           cat calibration_say_1             2.0   \n",
       "581                 6         candy calibration_say_1             2.0   \n",
       "582                 6       bedroom calibration_say_1             4.0   \n",
       "583                 6           leg calibration_say_1             2.0   \n",
       "584                 6       grandma calibration_say_1             2.0   \n",
       "...               ...                             ...             ...   \n",
       "177561           2207  block calibration_understand_1            11.0   \n",
       "177562           2207   keys calibration_understand_1             8.0   \n",
       "177563           2207  sheep calibration_understand_1             9.0   \n",
       "177564           2207    pen calibration_understand_1             9.0   \n",
       "177565           2207  drive calibration_understand_1            11.0   \n",
       "\n",
       "       question_type question_group target_word calibration_group  \n",
       "580      calibration            say         cat             early  \n",
       "581      calibration            say       candy             early  \n",
       "582      calibration            say     bedroom             early  \n",
       "583      calibration            say         leg             early  \n",
       "584      calibration            say     grandma             early  \n",
       "...              ...            ...         ...               ...  \n",
       "177561   calibration     understand       block              late  \n",
       "177562   calibration     understand        keys              late  \n",
       "177563   calibration     understand       sheep              late  \n",
       "177564   calibration     understand         pen              late  \n",
       "177565   calibration     understand       drive              late  \n",
       "\n",
       "[14592 rows x 7 columns]"
      ]
     },
     "execution_count": 144,
     "metadata": {},
     "output_type": "execute_result"
    }
   ],
   "source": [
    "calibration_entires"
   ]
  },
  {
   "cell_type": "markdown",
   "metadata": {},
   "source": [
    "## Spearmans Across Calibration Senses\n",
    "<a id='spearmans'></a>"
   ]
  },
  {
   "cell_type": "code",
   "execution_count": 145,
   "metadata": {},
   "outputs": [],
   "source": [
    "\n",
    "understand_list = list(set([sense if 'understand' in sense else '' for sense in calibration_entires.sense_question]))\n",
    "\n",
    "understand_calibration = calibration_entires[calibration_entires['sense_question'].isin(understand_list)]\n",
    "say_calibration = calibration_entires[~calibration_entires['sense_question'].isin(understand_list)]"
   ]
  },
  {
   "cell_type": "code",
   "execution_count": 75,
   "metadata": {
    "scrolled": true
   },
   "outputs": [
    {
     "name": "stdout",
     "output_type": "stream",
     "text": [
      "Understand Pairwise Spearmans\n",
      "Say Pairwise Spearmans\n"
     ]
    }
   ],
   "source": [
    "imp.reload(data_cleaning)\n",
    "print('Understand Pairwise Spearmans')\n",
    "understand_pairwise_spearmans = data_cleaning.getPairwiseSpearmans(understand_calibration, \n",
    "                                                                   num_samples=40,\n",
    "                                                                  verbose=False)\n",
    "understand_pairwise_spearmans['question_group'] = 'understand'\n",
    "\n",
    "print(\"Say Pairwise Spearmans\")\n",
    "say_pairwise_spearmans = data_cleaning.getPairwiseSpearmans(say_calibration,\n",
    "                                                            num_samples=40,\n",
    "                                                           verbose=False)\n",
    "say_pairwise_spearmans['question_group'] = 'say'\n",
    "pairwise_spearmans_df = pd.concat([understand_pairwise_spearmans,say_pairwise_spearmans])\n",
    "pairwise_spearmans_df.to_csv(\"../processed_data/pairwise_spearmans.csv\", index=False)"
   ]
  },
  {
   "cell_type": "code",
   "execution_count": 76,
   "metadata": {},
   "outputs": [
    {
     "name": "stdout",
     "output_type": "stream",
     "text": [
      "Random Understand Pairwise Spearmans\n",
      "Random Say Pairwise Spearmans\n"
     ]
    }
   ],
   "source": [
    "#random pairwise spearmans\n",
    "imp.reload(data_cleaning)\n",
    "random_senses = list(understand_calibration.aoa_estimation)\n",
    "random.shuffle(random_senses)\n",
    "random_understand_calibration=understand_calibration\n",
    "random_understand_calibration['aoa_estimation'] = random_senses\n",
    "\n",
    "print('Random Understand Pairwise Spearmans')\n",
    "random_understand_pairwise_spearmans = data_cleaning.getPairwiseSpearmans(random_understand_calibration, \n",
    "                                                                   num_samples=20,\n",
    "                                                                  verbose=False)\n",
    "random_understand_pairwise_spearmans['question_group'] = 'understand'\n",
    "\n",
    "print(\"Random Say Pairwise Spearmans\")\n",
    "\n",
    "random_senses = list(say_calibration.aoa_estimation)\n",
    "random.shuffle(random_senses)\n",
    "\n",
    "random_say_calibration=say_calibration\n",
    "random_say_calibration['aoa_estimation'] = random_senses\n",
    "\n",
    "random_say_pairwise_spearmans = data_cleaning.getPairwiseSpearmans(random_say_calibration,\n",
    "                                                            num_samples=20,\n",
    "                                                           verbose=False)\n",
    "\n",
    "random_say_pairwise_spearmans['question_group'] = 'say'\n",
    "\n",
    "random_pairwise_spearmans_df = pd.concat([random_understand_pairwise_spearmans,random_say_pairwise_spearmans])\n",
    "random_pairwise_spearmans_df.to_csv(\"../processed_data/random_pairwise_spearmans_df.csv\", index=False)"
   ]
  },
  {
   "cell_type": "code",
   "execution_count": 148,
   "metadata": {},
   "outputs": [
    {
     "data": {
      "text/plain": [
       "1216"
      ]
     },
     "execution_count": 148,
     "metadata": {},
     "output_type": "execute_result"
    }
   ],
   "source": [
    "len(set(random_pairwise_spearmans_df.participant_id))"
   ]
  },
  {
   "cell_type": "code",
   "execution_count": 77,
   "metadata": {},
   "outputs": [],
   "source": [
    "pairwise_spearmans_df = pd.read_csv(\"../processed_data/pairwise_spearmans.csv\")\n",
    "random_pairwise_spearmans_df['type'] = 'random'\n",
    "pairwise_spearmans_df['type'] = 'actual'\n",
    "compare = pd.concat([random_pairwise_spearmans_df,pairwise_spearmans_df])\n",
    "\n",
    "%R -i compare"
   ]
  },
  {
   "cell_type": "code",
   "execution_count": 143,
   "metadata": {},
   "outputs": [
    {
     "data": {
      "image/png": "[encoded data removed]"
     },
     "metadata": {},
     "output_type": "display_data"
    }
   ],
   "source": [
    "%%R -w 800 -h 400\n",
    "library(PNWColors)\n",
    "pal <- pnw_palette(\"Bay\",2, type = \"discrete\")\n",
    "color_scale <- scale_fill_manual(values=pal)\n",
    "\n",
    "pairwise_spearmans_hist <- ggplot(compare, aes(x=mean_pairwise_spearmans, fill=type)) + \n",
    "                                geom_histogram(data=subset(compare,type == 'random'),binwidth=.025, \n",
    "                                               color='black',alpha=.75) + \n",
    "                                geom_histogram(data=subset(compare,type == 'actual'),binwidth=.025,\n",
    "                                               color='black',alpha=.75)+\n",
    "                                facet_wrap(~ question_group) +\n",
    "                                theme_light() + labs(x = \"Mean Spearmans\", y = \"Participant Count\",\n",
    "                                                       title =\"Mean Pairwise Spearmans\",\n",
    "                                                       subtitle = \"Against 30 Random Other Participants\")+\n",
    "                                theme(plot.title = element_text(size=14),\n",
    "                                      axis.title = element_text(size=14),\n",
    "                                      axis.text = element_text(size = 12),\n",
    "                                      strip.text = element_text(size=12),\n",
    "                                      legend.text=element_text(size=12),\n",
    "                                      legend.title=element_text(size=12),\n",
    "                                      strip.background = element_rect(\n",
    "                                          color=\"black\", fill=\"#00496f\", \n",
    "                                          size=.5, linetype=\"solid\"))+ color_scale\n",
    "pairwise_spearmans_hist"
   ]
  },
  {
   "cell_type": "code",
   "execution_count": 79,
   "metadata": {},
   "outputs": [
    {
     "data": {
      "text/plain": [
       "0.2100060703327774"
      ]
     },
     "execution_count": 79,
     "metadata": {},
     "output_type": "execute_result"
    }
   ],
   "source": [
    "random_pairwise_spearmans_df.sort_values(by=['mean_pairwise_spearmans'])\n",
    "np.percentile(random_pairwise_spearmans_df.mean_pairwise_spearmans, 99.9)"
   ]
  },
  {
   "cell_type": "code",
   "execution_count": 80,
   "metadata": {},
   "outputs": [
    {
     "data": {
      "text/plain": [
       "0.1644736842105263"
      ]
     },
     "execution_count": 80,
     "metadata": {},
     "output_type": "execute_result"
    }
   ],
   "source": [
    "len(pairwise_spearmans_df[pairwise_spearmans_df['mean_pairwise_spearmans']<.25])/len(pairwise_spearmans_df)*100"
   ]
  },
  {
   "cell_type": "markdown",
   "metadata": {},
   "source": [
    "Drop Participants\n",
    "<a id='drop'></a>"
   ]
  },
  {
   "cell_type": "code",
   "execution_count": 83,
   "metadata": {},
   "outputs": [
    {
     "data": {
      "text/html": [
       "<div>\n",
       "<style scoped>\n",
       "    .dataframe tbody tr th:only-of-type {\n",
       "        vertical-align: middle;\n",
       "    }\n",
       "\n",
       "    .dataframe tbody tr th {\n",
       "        vertical-align: top;\n",
       "    }\n",
       "\n",
       "    .dataframe thead th {\n",
       "        text-align: right;\n",
       "    }\n",
       "</style>\n",
       "<table border=\"1\" class=\"dataframe\">\n",
       "  <thead>\n",
       "    <tr style=\"text-align: right;\">\n",
       "      <th></th>\n",
       "      <th>participant_id</th>\n",
       "      <th>Duration (in seconds)</th>\n",
       "      <th>parent</th>\n",
       "      <th>gender</th>\n",
       "      <th>edu</th>\n",
       "      <th>eng</th>\n",
       "      <th>Finished</th>\n",
       "      <th>num_calibration</th>\n",
       "      <th>mean_calibration</th>\n",
       "      <th>calibration_varience</th>\n",
       "      <th>num_senses</th>\n",
       "      <th>mean_sense_estimation</th>\n",
       "      <th>sense_estimation_varience</th>\n",
       "      <th>mean_pairwise_spearmans_x</th>\n",
       "      <th>question_group_x</th>\n",
       "      <th>type_x</th>\n",
       "      <th>mean_pairwise_spearmans_y</th>\n",
       "      <th>question_group_y</th>\n",
       "      <th>type_y</th>\n",
       "    </tr>\n",
       "  </thead>\n",
       "  <tbody>\n",
       "    <tr>\n",
       "      <th>0</th>\n",
       "      <td>6</td>\n",
       "      <td>556</td>\n",
       "      <td>No</td>\n",
       "      <td>Female</td>\n",
       "      <td>2-year college degree</td>\n",
       "      <td>Yes</td>\n",
       "      <td>True</td>\n",
       "      <td>12</td>\n",
       "      <td>6.166667</td>\n",
       "      <td>35.060606</td>\n",
       "      <td>100</td>\n",
       "      <td>9.510000</td>\n",
       "      <td>15.323131</td>\n",
       "      <td>0.745064</td>\n",
       "      <td>say</td>\n",
       "      <td>actual</td>\n",
       "      <td>0.827622</td>\n",
       "      <td>say</td>\n",
       "      <td>actual</td>\n",
       "    </tr>\n",
       "    <tr>\n",
       "      <th>1</th>\n",
       "      <td>8</td>\n",
       "      <td>529</td>\n",
       "      <td>Yes</td>\n",
       "      <td>Female</td>\n",
       "      <td>4-year college degree</td>\n",
       "      <td>Yes</td>\n",
       "      <td>True</td>\n",
       "      <td>12</td>\n",
       "      <td>6.666667</td>\n",
       "      <td>12.060606</td>\n",
       "      <td>100</td>\n",
       "      <td>10.140000</td>\n",
       "      <td>4.404444</td>\n",
       "      <td>0.705589</td>\n",
       "      <td>say</td>\n",
       "      <td>actual</td>\n",
       "      <td>0.752879</td>\n",
       "      <td>say</td>\n",
       "      <td>actual</td>\n",
       "    </tr>\n",
       "    <tr>\n",
       "      <th>2</th>\n",
       "      <td>16</td>\n",
       "      <td>641</td>\n",
       "      <td>No</td>\n",
       "      <td>Male</td>\n",
       "      <td>4-year college degree</td>\n",
       "      <td>Yes</td>\n",
       "      <td>True</td>\n",
       "      <td>12</td>\n",
       "      <td>6.166667</td>\n",
       "      <td>15.060606</td>\n",
       "      <td>100</td>\n",
       "      <td>6.750000</td>\n",
       "      <td>7.118687</td>\n",
       "      <td>0.735002</td>\n",
       "      <td>say</td>\n",
       "      <td>actual</td>\n",
       "      <td>0.818705</td>\n",
       "      <td>say</td>\n",
       "      <td>actual</td>\n",
       "    </tr>\n",
       "    <tr>\n",
       "      <th>3</th>\n",
       "      <td>18</td>\n",
       "      <td>692</td>\n",
       "      <td>Yes</td>\n",
       "      <td>Male</td>\n",
       "      <td>Doctorate</td>\n",
       "      <td>Yes</td>\n",
       "      <td>True</td>\n",
       "      <td>12</td>\n",
       "      <td>6.833333</td>\n",
       "      <td>17.242424</td>\n",
       "      <td>100</td>\n",
       "      <td>6.730000</td>\n",
       "      <td>7.875859</td>\n",
       "      <td>0.821501</td>\n",
       "      <td>say</td>\n",
       "      <td>actual</td>\n",
       "      <td>0.818576</td>\n",
       "      <td>say</td>\n",
       "      <td>actual</td>\n",
       "    </tr>\n",
       "    <tr>\n",
       "      <th>4</th>\n",
       "      <td>25</td>\n",
       "      <td>915</td>\n",
       "      <td>Yes</td>\n",
       "      <td>Female</td>\n",
       "      <td>4-year college degree</td>\n",
       "      <td>Yes</td>\n",
       "      <td>True</td>\n",
       "      <td>12</td>\n",
       "      <td>5.000000</td>\n",
       "      <td>7.454545</td>\n",
       "      <td>100</td>\n",
       "      <td>5.680000</td>\n",
       "      <td>1.755152</td>\n",
       "      <td>0.701986</td>\n",
       "      <td>say</td>\n",
       "      <td>actual</td>\n",
       "      <td>0.759886</td>\n",
       "      <td>say</td>\n",
       "      <td>actual</td>\n",
       "    </tr>\n",
       "    <tr>\n",
       "      <th>...</th>\n",
       "      <td>...</td>\n",
       "      <td>...</td>\n",
       "      <td>...</td>\n",
       "      <td>...</td>\n",
       "      <td>...</td>\n",
       "      <td>...</td>\n",
       "      <td>...</td>\n",
       "      <td>...</td>\n",
       "      <td>...</td>\n",
       "      <td>...</td>\n",
       "      <td>...</td>\n",
       "      <td>...</td>\n",
       "      <td>...</td>\n",
       "      <td>...</td>\n",
       "      <td>...</td>\n",
       "      <td>...</td>\n",
       "      <td>...</td>\n",
       "      <td>...</td>\n",
       "      <td>...</td>\n",
       "    </tr>\n",
       "    <tr>\n",
       "      <th>1211</th>\n",
       "      <td>2149</td>\n",
       "      <td>484</td>\n",
       "      <td>No</td>\n",
       "      <td>Male</td>\n",
       "      <td>4-year college degree</td>\n",
       "      <td>Yes</td>\n",
       "      <td>False</td>\n",
       "      <td>12</td>\n",
       "      <td>8.083333</td>\n",
       "      <td>21.901515</td>\n",
       "      <td>68</td>\n",
       "      <td>10.132353</td>\n",
       "      <td>14.564311</td>\n",
       "      <td>0.731595</td>\n",
       "      <td>understand</td>\n",
       "      <td>actual</td>\n",
       "      <td>0.746226</td>\n",
       "      <td>understand</td>\n",
       "      <td>actual</td>\n",
       "    </tr>\n",
       "    <tr>\n",
       "      <th>1212</th>\n",
       "      <td>2171</td>\n",
       "      <td>775</td>\n",
       "      <td>No</td>\n",
       "      <td>Female</td>\n",
       "      <td>Some college</td>\n",
       "      <td>Yes</td>\n",
       "      <td>False</td>\n",
       "      <td>12</td>\n",
       "      <td>4.416667</td>\n",
       "      <td>5.537879</td>\n",
       "      <td>49</td>\n",
       "      <td>3.979592</td>\n",
       "      <td>2.312075</td>\n",
       "      <td>0.733394</td>\n",
       "      <td>say</td>\n",
       "      <td>actual</td>\n",
       "      <td>0.797027</td>\n",
       "      <td>say</td>\n",
       "      <td>actual</td>\n",
       "    </tr>\n",
       "    <tr>\n",
       "      <th>1213</th>\n",
       "      <td>2177</td>\n",
       "      <td>2104</td>\n",
       "      <td>Yes</td>\n",
       "      <td>Female</td>\n",
       "      <td>Some college</td>\n",
       "      <td>Yes</td>\n",
       "      <td>False</td>\n",
       "      <td>12</td>\n",
       "      <td>9.250000</td>\n",
       "      <td>31.295455</td>\n",
       "      <td>53</td>\n",
       "      <td>10.981132</td>\n",
       "      <td>8.941945</td>\n",
       "      <td>0.637024</td>\n",
       "      <td>say</td>\n",
       "      <td>actual</td>\n",
       "      <td>0.737418</td>\n",
       "      <td>say</td>\n",
       "      <td>actual</td>\n",
       "    </tr>\n",
       "    <tr>\n",
       "      <th>1214</th>\n",
       "      <td>2183</td>\n",
       "      <td>1719</td>\n",
       "      <td>No</td>\n",
       "      <td>Female</td>\n",
       "      <td>4-year college degree</td>\n",
       "      <td>Yes</td>\n",
       "      <td>False</td>\n",
       "      <td>12</td>\n",
       "      <td>9.833333</td>\n",
       "      <td>35.969697</td>\n",
       "      <td>47</td>\n",
       "      <td>5.957447</td>\n",
       "      <td>2.563367</td>\n",
       "      <td>0.781034</td>\n",
       "      <td>say</td>\n",
       "      <td>actual</td>\n",
       "      <td>0.809235</td>\n",
       "      <td>say</td>\n",
       "      <td>actual</td>\n",
       "    </tr>\n",
       "    <tr>\n",
       "      <th>1215</th>\n",
       "      <td>2207</td>\n",
       "      <td>3952</td>\n",
       "      <td>No</td>\n",
       "      <td>Female</td>\n",
       "      <td>4-year college degree</td>\n",
       "      <td>Yes</td>\n",
       "      <td>False</td>\n",
       "      <td>12</td>\n",
       "      <td>5.666667</td>\n",
       "      <td>18.242424</td>\n",
       "      <td>49</td>\n",
       "      <td>9.102041</td>\n",
       "      <td>11.301871</td>\n",
       "      <td>0.792945</td>\n",
       "      <td>understand</td>\n",
       "      <td>actual</td>\n",
       "      <td>0.804353</td>\n",
       "      <td>understand</td>\n",
       "      <td>actual</td>\n",
       "    </tr>\n",
       "  </tbody>\n",
       "</table>\n",
       "<p>1216 rows × 19 columns</p>\n",
       "</div>"
      ],
      "text/plain": [
       "      participant_id  Duration (in seconds) parent  gender  \\\n",
       "0                  6                    556     No  Female   \n",
       "1                  8                    529    Yes  Female   \n",
       "2                 16                    641     No    Male   \n",
       "3                 18                    692    Yes    Male   \n",
       "4                 25                    915    Yes  Female   \n",
       "...              ...                    ...    ...     ...   \n",
       "1211            2149                    484     No    Male   \n",
       "1212            2171                    775     No  Female   \n",
       "1213            2177                   2104    Yes  Female   \n",
       "1214            2183                   1719     No  Female   \n",
       "1215            2207                   3952     No  Female   \n",
       "\n",
       "                        edu  eng Finished  num_calibration  mean_calibration  \\\n",
       "0     2-year college degree  Yes     True               12          6.166667   \n",
       "1     4-year college degree  Yes     True               12          6.666667   \n",
       "2     4-year college degree  Yes     True               12          6.166667   \n",
       "3                 Doctorate  Yes     True               12          6.833333   \n",
       "4     4-year college degree  Yes     True               12          5.000000   \n",
       "...                     ...  ...      ...              ...               ...   \n",
       "1211  4-year college degree  Yes    False               12          8.083333   \n",
       "1212           Some college  Yes    False               12          4.416667   \n",
       "1213           Some college  Yes    False               12          9.250000   \n",
       "1214  4-year college degree  Yes    False               12          9.833333   \n",
       "1215  4-year college degree  Yes    False               12          5.666667   \n",
       "\n",
       "      calibration_varience  num_senses  mean_sense_estimation  \\\n",
       "0                35.060606         100               9.510000   \n",
       "1                12.060606         100              10.140000   \n",
       "2                15.060606         100               6.750000   \n",
       "3                17.242424         100               6.730000   \n",
       "4                 7.454545         100               5.680000   \n",
       "...                    ...         ...                    ...   \n",
       "1211             21.901515          68              10.132353   \n",
       "1212              5.537879          49               3.979592   \n",
       "1213             31.295455          53              10.981132   \n",
       "1214             35.969697          47               5.957447   \n",
       "1215             18.242424          49               9.102041   \n",
       "\n",
       "      sense_estimation_varience  mean_pairwise_spearmans_x question_group_x  \\\n",
       "0                     15.323131                   0.745064              say   \n",
       "1                      4.404444                   0.705589              say   \n",
       "2                      7.118687                   0.735002              say   \n",
       "3                      7.875859                   0.821501              say   \n",
       "4                      1.755152                   0.701986              say   \n",
       "...                         ...                        ...              ...   \n",
       "1211                  14.564311                   0.731595       understand   \n",
       "1212                   2.312075                   0.733394              say   \n",
       "1213                   8.941945                   0.637024              say   \n",
       "1214                   2.563367                   0.781034              say   \n",
       "1215                  11.301871                   0.792945       understand   \n",
       "\n",
       "      type_x  mean_pairwise_spearmans_y question_group_y  type_y  \n",
       "0     actual                   0.827622              say  actual  \n",
       "1     actual                   0.752879              say  actual  \n",
       "2     actual                   0.818705              say  actual  \n",
       "3     actual                   0.818576              say  actual  \n",
       "4     actual                   0.759886              say  actual  \n",
       "...      ...                        ...              ...     ...  \n",
       "1211  actual                   0.746226       understand  actual  \n",
       "1212  actual                   0.797027              say  actual  \n",
       "1213  actual                   0.737418              say  actual  \n",
       "1214  actual                   0.809235              say  actual  \n",
       "1215  actual                   0.804353       understand  actual  \n",
       "\n",
       "[1216 rows x 19 columns]"
      ]
     },
     "execution_count": 83,
     "metadata": {},
     "output_type": "execute_result"
    }
   ],
   "source": [
    "participant_metrics_spearmans_df.drop(columns=)"
   ]
  },
  {
   "cell_type": "code",
   "execution_count": 156,
   "metadata": {},
   "outputs": [],
   "source": [
    "participant_metrics_spearmans_df = pd.merge(participant_metrics_df,\n",
    "         pairwise_spearmans_df,\n",
    "         left_on='participant_id',\n",
    "         right_on='participant_id',\n",
    "         how='inner')\n",
    "\n",
    "clean_sense_survey = pd.merge(clean_sense_survey,\n",
    "                             participant_metrics_df[['participant_id','gender','edu','parent']],\n",
    "                             left_on='participant_id',\n",
    "                             right_on='participant_id',\n",
    "                             how='left')"
   ]
  },
  {
   "cell_type": "code",
   "execution_count": 166,
   "metadata": {},
   "outputs": [],
   "source": []
  },
  {
   "cell_type": "code",
   "execution_count": 167,
   "metadata": {
    "scrolled": false
   },
   "outputs": [
    {
     "name": "stdout",
     "output_type": "stream",
     "text": [
      "2 with mean calibration estimation > 25\n",
      "\n",
      "29 with sense calibration variance > 50\n",
      "\n",
      "1 with mean sense estimation > 25\n",
      "\n",
      "0 with mean sense estimation < 2\n",
      "\n",
      "0 with sense estimation variance <.5\n",
      "\n",
      "78 with sense estimation variance > 25\n",
      "\n",
      "4 with mean pairwise spearmans < .5\n",
      "\n",
      "2 had a duration < 5 minutes\n",
      "\n",
      "1129 participants remaining\n"
     ]
    }
   ],
   "source": [
    "#drop participants with a mean sense estimation > 25\n",
    "large_mean_calibration_estimation = list(participant_metrics_spearmans_df[participant_metrics_spearmans_df['mean_calibration']>25].participant_id)\n",
    "print(len(large_mean_calibration_estimation), \"with mean calibration estimation > 25\")\n",
    "print(\"\")\n",
    "\n",
    "large_mean_calibration_varience = list(participant_metrics_spearmans_df[participant_metrics_spearmans_df['calibration_varience']>50].participant_id)\n",
    "print(len(large_mean_calibration_varience), \"with sense calibration variance > 50\")\n",
    "print(\"\")\n",
    "\n",
    "large_mean_sense_estimation = list(participant_metrics_spearmans_df[participant_metrics_spearmans_df['mean_sense_estimation']>25].participant_id)\n",
    "print(len(large_mean_sense_estimation), \"with mean sense estimation > 25\")\n",
    "print(\"\")\n",
    "\n",
    "small_mean_sense_estimation = list(participant_metrics_spearmans_df[participant_metrics_spearmans_df['mean_sense_estimation']<2].participant_id)\n",
    "print(len(small_mean_sense_estimation), \"with mean sense estimation < 2\")\n",
    "print(\"\")\n",
    "\n",
    "low_sense_varience = list(participant_metrics_spearmans_df[participant_metrics_spearmans_df['sense_estimation_varience']<=.5].participant_id)\n",
    "print(len(low_sense_varience), \"with sense estimation variance <.5\")\n",
    "print(\"\")\n",
    "\n",
    "high_sense_varience = list(participant_metrics_spearmans_df[participant_metrics_spearmans_df['sense_estimation_varience']>25].participant_id)\n",
    "print(len(high_sense_varience), \"with sense estimation variance > 25\")\n",
    "print(\"\")\n",
    "\n",
    "low_spearmans = list(participant_metrics_spearmans_df[participant_metrics_spearmans_df['mean_pairwise_spearmans']<.5].participant_id)\n",
    "print(len(low_spearmans), \"with mean pairwise spearmans < .5\")\n",
    "print(\"\")\n",
    "\n",
    "participant_metrics_spearmans_df['Duration (in seconds)'] = participant_metrics_spearmans_df['Duration (in seconds)'].astype(int)\n",
    "low_duration = list(participant_metrics_spearmans_df[participant_metrics_spearmans_df['Duration (in seconds)']<300].participant_id)\n",
    "print(len(low_duration), 'had a duration < 5 minutes')\n",
    "print(\"\")\n",
    "\n",
    "final_drop_set = set(low_sense_varience+large_mean_sense_estimation+low_spearmans+\n",
    "                     large_mean_calibration_estimation+high_sense_varience+large_mean_calibration_varience)\n",
    "\n",
    "final_sense_survey = clean_sense_survey[~clean_sense_survey['participant_id'].isin(final_drop_set)]\n",
    "\n",
    "print(len(set(final_sense_survey.participant_id)), \"participants remaining\")"
   ]
  },
  {
   "cell_type": "code",
   "execution_count": 163,
   "metadata": {},
   "outputs": [
    {
     "data": {
      "text/plain": [
       "1216"
      ]
     },
     "execution_count": 163,
     "metadata": {},
     "output_type": "execute_result"
    }
   ],
   "source": [
    "len(set(clean_sense_survey.participant_id))"
   ]
  },
  {
   "cell_type": "code",
   "execution_count": 45,
   "metadata": {},
   "outputs": [
    {
     "data": {
      "text/plain": [
       "67.74445687808225"
      ]
     },
     "execution_count": 45,
     "metadata": {},
     "output_type": "execute_result"
    }
   ],
   "source": [
    "len(final_sense_survey)/len(all_sense_estimation_df)*100"
   ]
  },
  {
   "cell_type": "code",
   "execution_count": 46,
   "metadata": {},
   "outputs": [
    {
     "data": {
      "text/plain": [
       "participant_id  question_group\n",
       "6               attention           4\n",
       "                say               112\n",
       "8               attention           4\n",
       "                say               112\n",
       "12              attention           4\n",
       "                                 ... \n",
       "2177            say                65\n",
       "2183            attention           4\n",
       "                say                59\n",
       "2207            attention           4\n",
       "                understand         61\n",
       "Name: sense_question, Length: 2844, dtype: int64"
      ]
     },
     "execution_count": 46,
     "metadata": {},
     "output_type": "execute_result"
    }
   ],
   "source": [
    "final_sense_survey\n",
    "final_sense_survey.groupby(by=['participant_id', 'question_group'])['sense_question'].agg('nunique')"
   ]
  },
  {
   "cell_type": "code",
   "execution_count": 47,
   "metadata": {},
   "outputs": [
    {
     "data": {
      "text/html": [
       "<div>\n",
       "<style scoped>\n",
       "    .dataframe tbody tr th:only-of-type {\n",
       "        vertical-align: middle;\n",
       "    }\n",
       "\n",
       "    .dataframe tbody tr th {\n",
       "        vertical-align: top;\n",
       "    }\n",
       "\n",
       "    .dataframe thead th {\n",
       "        text-align: right;\n",
       "    }\n",
       "</style>\n",
       "<table border=\"1\" class=\"dataframe\">\n",
       "  <thead>\n",
       "    <tr style=\"text-align: right;\">\n",
       "      <th></th>\n",
       "      <th>participant_id</th>\n",
       "      <th>sense_question</th>\n",
       "      <th>aoa_estimation</th>\n",
       "      <th>question_type</th>\n",
       "      <th>question_group</th>\n",
       "      <th>target_word</th>\n",
       "      <th>gender</th>\n",
       "      <th>edu</th>\n",
       "      <th>parent</th>\n",
       "    </tr>\n",
       "  </thead>\n",
       "  <tbody>\n",
       "    <tr>\n",
       "      <th>0</th>\n",
       "      <td>5</td>\n",
       "      <td>cat calibration_say_1</td>\n",
       "      <td>5.0</td>\n",
       "      <td>calibration</td>\n",
       "      <td>say</td>\n",
       "      <td>cat</td>\n",
       "      <td>Female</td>\n",
       "      <td>Some college</td>\n",
       "      <td>Yes</td>\n",
       "    </tr>\n",
       "    <tr>\n",
       "      <th>1</th>\n",
       "      <td>5</td>\n",
       "      <td>candy calibration_say_1</td>\n",
       "      <td>3.0</td>\n",
       "      <td>calibration</td>\n",
       "      <td>say</td>\n",
       "      <td>candy</td>\n",
       "      <td>Female</td>\n",
       "      <td>Some college</td>\n",
       "      <td>Yes</td>\n",
       "    </tr>\n",
       "    <tr>\n",
       "      <th>2</th>\n",
       "      <td>5</td>\n",
       "      <td>bedroom calibration_say_1</td>\n",
       "      <td>3.0</td>\n",
       "      <td>calibration</td>\n",
       "      <td>say</td>\n",
       "      <td>bedroom</td>\n",
       "      <td>Female</td>\n",
       "      <td>Some college</td>\n",
       "      <td>Yes</td>\n",
       "    </tr>\n",
       "    <tr>\n",
       "      <th>3</th>\n",
       "      <td>5</td>\n",
       "      <td>leg calibration_say_1</td>\n",
       "      <td>5.0</td>\n",
       "      <td>calibration</td>\n",
       "      <td>say</td>\n",
       "      <td>leg</td>\n",
       "      <td>Female</td>\n",
       "      <td>Some college</td>\n",
       "      <td>Yes</td>\n",
       "    </tr>\n",
       "    <tr>\n",
       "      <th>4</th>\n",
       "      <td>5</td>\n",
       "      <td>grandma calibration_say_1</td>\n",
       "      <td>3.0</td>\n",
       "      <td>calibration</td>\n",
       "      <td>say</td>\n",
       "      <td>grandma</td>\n",
       "      <td>Female</td>\n",
       "      <td>Some college</td>\n",
       "      <td>Yes</td>\n",
       "    </tr>\n",
       "    <tr>\n",
       "      <th>...</th>\n",
       "      <td>...</td>\n",
       "      <td>...</td>\n",
       "      <td>...</td>\n",
       "      <td>...</td>\n",
       "      <td>...</td>\n",
       "      <td>...</td>\n",
       "      <td>...</td>\n",
       "      <td>...</td>\n",
       "      <td>...</td>\n",
       "    </tr>\n",
       "    <tr>\n",
       "      <th>146337</th>\n",
       "      <td>2207</td>\n",
       "      <td>tiny adj_understand_1</td>\n",
       "      <td>4.0</td>\n",
       "      <td>sense_question</td>\n",
       "      <td>understand</td>\n",
       "      <td>tiny</td>\n",
       "      <td>Female</td>\n",
       "      <td>4-year college degree</td>\n",
       "      <td>No</td>\n",
       "    </tr>\n",
       "    <tr>\n",
       "      <th>146338</th>\n",
       "      <td>2207</td>\n",
       "      <td>understand_check 1_1.1</td>\n",
       "      <td>5.0</td>\n",
       "      <td>attention_check</td>\n",
       "      <td>attention</td>\n",
       "      <td>understand_check</td>\n",
       "      <td>Female</td>\n",
       "      <td>4-year college degree</td>\n",
       "      <td>No</td>\n",
       "    </tr>\n",
       "    <tr>\n",
       "      <th>146339</th>\n",
       "      <td>2207</td>\n",
       "      <td>understand_check 2_1.1</td>\n",
       "      <td>9.0</td>\n",
       "      <td>attention_check</td>\n",
       "      <td>attention</td>\n",
       "      <td>understand_check</td>\n",
       "      <td>Female</td>\n",
       "      <td>4-year college degree</td>\n",
       "      <td>No</td>\n",
       "    </tr>\n",
       "    <tr>\n",
       "      <th>146340</th>\n",
       "      <td>2207</td>\n",
       "      <td>understand_check 3_1.1</td>\n",
       "      <td>3.0</td>\n",
       "      <td>attention_check</td>\n",
       "      <td>attention</td>\n",
       "      <td>understand_check</td>\n",
       "      <td>Female</td>\n",
       "      <td>4-year college degree</td>\n",
       "      <td>No</td>\n",
       "    </tr>\n",
       "    <tr>\n",
       "      <th>146341</th>\n",
       "      <td>2207</td>\n",
       "      <td>understand_check 4_1.1</td>\n",
       "      <td>10.0</td>\n",
       "      <td>attention_check</td>\n",
       "      <td>attention</td>\n",
       "      <td>understand_check</td>\n",
       "      <td>Female</td>\n",
       "      <td>4-year college degree</td>\n",
       "      <td>No</td>\n",
       "    </tr>\n",
       "  </tbody>\n",
       "</table>\n",
       "<p>146342 rows × 9 columns</p>\n",
       "</div>"
      ],
      "text/plain": [
       "       participant_id             sense_question  aoa_estimation  \\\n",
       "0                   5      cat calibration_say_1             5.0   \n",
       "1                   5    candy calibration_say_1             3.0   \n",
       "2                   5  bedroom calibration_say_1             3.0   \n",
       "3                   5      leg calibration_say_1             5.0   \n",
       "4                   5  grandma calibration_say_1             3.0   \n",
       "...               ...                        ...             ...   \n",
       "146337           2207      tiny adj_understand_1             4.0   \n",
       "146338           2207     understand_check 1_1.1             5.0   \n",
       "146339           2207     understand_check 2_1.1             9.0   \n",
       "146340           2207     understand_check 3_1.1             3.0   \n",
       "146341           2207     understand_check 4_1.1            10.0   \n",
       "\n",
       "          question_type question_group       target_word  gender  \\\n",
       "0           calibration            say               cat  Female   \n",
       "1           calibration            say             candy  Female   \n",
       "2           calibration            say           bedroom  Female   \n",
       "3           calibration            say               leg  Female   \n",
       "4           calibration            say           grandma  Female   \n",
       "...                 ...            ...               ...     ...   \n",
       "146337   sense_question     understand              tiny  Female   \n",
       "146338  attention_check      attention  understand_check  Female   \n",
       "146339  attention_check      attention  understand_check  Female   \n",
       "146340  attention_check      attention  understand_check  Female   \n",
       "146341  attention_check      attention  understand_check  Female   \n",
       "\n",
       "                          edu parent  \n",
       "0                Some college    Yes  \n",
       "1                Some college    Yes  \n",
       "2                Some college    Yes  \n",
       "3                Some college    Yes  \n",
       "4                Some college    Yes  \n",
       "...                       ...    ...  \n",
       "146337  4-year college degree     No  \n",
       "146338  4-year college degree     No  \n",
       "146339  4-year college degree     No  \n",
       "146340  4-year college degree     No  \n",
       "146341  4-year college degree     No  \n",
       "\n",
       "[146342 rows x 9 columns]"
      ]
     },
     "execution_count": 47,
     "metadata": {},
     "output_type": "execute_result"
    }
   ],
   "source": [
    "clean_sense_survey"
   ]
  },
  {
   "cell_type": "code",
   "execution_count": 168,
   "metadata": {},
   "outputs": [],
   "source": [
    "clean_sense_survey.to_csv('../processed_data/pre_drop_survey_responses.csv', index=False)\n",
    "final_sense_survey.to_csv('../processed_data/clean_survey_responses.csv', index=False)"
   ]
  },
  {
   "cell_type": "code",
   "execution_count": 170,
   "metadata": {},
   "outputs": [
    {
     "data": {
      "text/plain": [
       "0          1\n",
       "1          2\n",
       "2          3\n",
       "3          4\n",
       "4          5\n",
       "        ... \n",
       "2210    2211\n",
       "2211    2212\n",
       "2212    2213\n",
       "2213    2214\n",
       "2214    2215\n",
       "Name: participant_id, Length: 2154, dtype: int64"
      ]
     },
     "execution_count": 170,
     "metadata": {},
     "output_type": "execute_result"
    }
   ],
   "source": [
    "eng_first_lang"
   ]
  },
  {
   "cell_type": "code",
   "execution_count": 190,
   "metadata": {},
   "outputs": [
    {
     "name": "stdout",
     "output_type": "stream",
     "text": [
      "2441 origonal participants\n",
      "   -6 dropped no consent\n",
      "2435 participants consented\n",
      "   -220 dropped no data\n",
      "2215 participants provided data\n",
      "   -228 dropped poor attention\n",
      "1987 participants passed their attention checks\n",
      "   -50 dropped esl\n",
      "1772 participants before exclusions\n",
      "   -643 dropped poor metrics\n",
      "1129 partcipants after exclusions\n",
      "\n",
      "Keeping 1129/2435(46.37%) of consenting participants\n"
     ]
    }
   ],
   "source": [
    "og_part = raw_word_sense_text_entry_df[2:]\n",
    "consenting_part = raw_word_sense_text_entry_df[raw_word_sense_text_entry_df['Q3']=='I consent to participate in this study.']\n",
    "data_part = all_sense_estimation_df.participant_id\n",
    "attention_part = all_sense_estimation_df[~all_sense_estimation_df['participant_id'].isin(failed_one_check)].participant_id\n",
    "skipped_attention_part = all_sense_estimation_df[~all_sense_estimation_df['participant_id'].isin(skipped_one_check)].participant_id\n",
    "passed_attention_part = all_sense_estimation_df[~all_sense_estimation_df['participant_id'].isin(skipped_one_check+failed_one_check)].participant_id\n",
    "\n",
    "print(len(og_part), \"origonal participants\")\n",
    "print(f'   -{len(og_part)-len(consenting_part)} dropped no consent')\n",
    "\n",
    "print(len(consenting_part), 'participants consented')\n",
    "print(f'   -{len(consenting_part)-len(set(data_part))} dropped no data')\n",
    "\n",
    "print(len(set(data_part)), 'participants provided data')\n",
    "print(f'   -{len(set(data_part))-len(set(passed_attention_part))} dropped poor attention')\n",
    "print(len(set(passed_attention_part)), \"participants passed their attention checks\")\n",
    "\n",
    "\n",
    "print(f'   -{num_esl_dropped} dropped esl')\n",
    "\n",
    "print(len(set(clean_sense_survey.participant_id)), \"participants before exclusions\")\n",
    "print(f'   -{len(set(clean_sense_survey.participant_id))-len(set(final_sense_survey.participant_id))} dropped poor metrics')\n",
    "print(len(set(final_sense_survey.participant_id)), \"partcipants after exclusions\")\n",
    "print(f\"\\nKeeping {len(set(final_sense_survey.participant_id))}/{len(consenting_part)}({round(len(set(final_sense_survey.participant_id))/len(consenting_part)*100,2)}%) of consenting participants\")"
   ]
  },
  {
   "cell_type": "code",
   "execution_count": 174,
   "metadata": {},
   "outputs": [
    {
     "data": {
      "text/plain": [
       "0            1\n",
       "1            1\n",
       "2            1\n",
       "3            1\n",
       "4            1\n",
       "          ... \n",
       "177686    2208\n",
       "177687    2208\n",
       "177688    2208\n",
       "177689    2208\n",
       "177690    2208\n",
       "Name: participant_id, Length: 170246, dtype: object"
      ]
     },
     "execution_count": 174,
     "metadata": {},
     "output_type": "execute_result"
    }
   ],
   "source": [
    "passed_attention_part"
   ]
  },
  {
   "cell_type": "code",
   "execution_count": 50,
   "metadata": {},
   "outputs": [
    {
     "data": {
      "text/html": [
       "<div>\n",
       "<style scoped>\n",
       "    .dataframe tbody tr th:only-of-type {\n",
       "        vertical-align: middle;\n",
       "    }\n",
       "\n",
       "    .dataframe tbody tr th {\n",
       "        vertical-align: top;\n",
       "    }\n",
       "\n",
       "    .dataframe thead th {\n",
       "        text-align: right;\n",
       "    }\n",
       "</style>\n",
       "<table border=\"1\" class=\"dataframe\">\n",
       "  <thead>\n",
       "    <tr style=\"text-align: right;\">\n",
       "      <th></th>\n",
       "      <th>participant_id</th>\n",
       "      <th>sense_question</th>\n",
       "      <th>aoa_estimation</th>\n",
       "      <th>question_type</th>\n",
       "      <th>question_group</th>\n",
       "      <th>target_word</th>\n",
       "      <th>gender</th>\n",
       "      <th>edu</th>\n",
       "      <th>parent</th>\n",
       "    </tr>\n",
       "  </thead>\n",
       "  <tbody>\n",
       "    <tr>\n",
       "      <th>22886</th>\n",
       "      <td>285</td>\n",
       "      <td>cow n_say_3</td>\n",
       "      <td>7.0</td>\n",
       "      <td>sense_question</td>\n",
       "      <td>say</td>\n",
       "      <td>cow</td>\n",
       "      <td>Male</td>\n",
       "      <td>2-year college degree</td>\n",
       "      <td>No</td>\n",
       "    </tr>\n",
       "    <tr>\n",
       "      <th>102814</th>\n",
       "      <td>1354</td>\n",
       "      <td>tickle calibration_understand_1</td>\n",
       "      <td>1.0</td>\n",
       "      <td>calibration</td>\n",
       "      <td>understand</td>\n",
       "      <td>tickle</td>\n",
       "      <td>Female</td>\n",
       "      <td>4-year college degree</td>\n",
       "      <td>Yes</td>\n",
       "    </tr>\n",
       "    <tr>\n",
       "      <th>115455</th>\n",
       "      <td>1531</td>\n",
       "      <td>stand v_say_6</td>\n",
       "      <td>16.0</td>\n",
       "      <td>sense_question</td>\n",
       "      <td>say</td>\n",
       "      <td>stand</td>\n",
       "      <td>Female</td>\n",
       "      <td>4-year college degree</td>\n",
       "      <td>Yes</td>\n",
       "    </tr>\n",
       "    <tr>\n",
       "      <th>60926</th>\n",
       "      <td>764</td>\n",
       "      <td>cookie n_say_1</td>\n",
       "      <td>2.0</td>\n",
       "      <td>sense_question</td>\n",
       "      <td>say</td>\n",
       "      <td>cookie</td>\n",
       "      <td>Female</td>\n",
       "      <td>4-year college degree</td>\n",
       "      <td>No</td>\n",
       "    </tr>\n",
       "    <tr>\n",
       "      <th>112755</th>\n",
       "      <td>1493</td>\n",
       "      <td>fit v_understand_6</td>\n",
       "      <td>9.0</td>\n",
       "      <td>sense_question</td>\n",
       "      <td>understand</td>\n",
       "      <td>fit</td>\n",
       "      <td>Other</td>\n",
       "      <td>4-year college degree</td>\n",
       "      <td>No</td>\n",
       "    </tr>\n",
       "  </tbody>\n",
       "</table>\n",
       "</div>"
      ],
      "text/plain": [
       "       participant_id                   sense_question  aoa_estimation  \\\n",
       "22886             285                      cow n_say_3             7.0   \n",
       "102814           1354  tickle calibration_understand_1             1.0   \n",
       "115455           1531                    stand v_say_6            16.0   \n",
       "60926             764                   cookie n_say_1             2.0   \n",
       "112755           1493               fit v_understand_6             9.0   \n",
       "\n",
       "         question_type question_group target_word  gender  \\\n",
       "22886   sense_question            say         cow    Male   \n",
       "102814     calibration     understand      tickle  Female   \n",
       "115455  sense_question            say       stand  Female   \n",
       "60926   sense_question            say      cookie  Female   \n",
       "112755  sense_question     understand         fit   Other   \n",
       "\n",
       "                          edu parent  \n",
       "22886   2-year college degree     No  \n",
       "102814  4-year college degree    Yes  \n",
       "115455  4-year college degree    Yes  \n",
       "60926   4-year college degree     No  \n",
       "112755  4-year college degree     No  "
      ]
     },
     "execution_count": 50,
     "metadata": {},
     "output_type": "execute_result"
    }
   ],
   "source": [
    "final_sense_survey.sample(5)"
   ]
  },
  {
   "cell_type": "code",
   "execution_count": 51,
   "metadata": {},
   "outputs": [
    {
     "ename": "SyntaxError",
     "evalue": "Missing parentheses in call to 'print'. Did you mean print(break notebook here)? (<ipython-input-51-67085d21eeb0>, line 1)",
     "output_type": "error",
     "traceback": [
      "\u001b[0;36m  File \u001b[0;32m\"<ipython-input-51-67085d21eeb0>\"\u001b[0;36m, line \u001b[0;32m1\u001b[0m\n\u001b[0;31m    print break notebook here\u001b[0m\n\u001b[0m              ^\u001b[0m\n\u001b[0;31mSyntaxError\u001b[0m\u001b[0;31m:\u001b[0m Missing parentheses in call to 'print'. Did you mean print(break notebook here)?\n"
     ]
    }
   ],
   "source": [
    "print break notebook here"
   ]
  },
  {
   "cell_type": "markdown",
   "metadata": {},
   "source": [
    "### Look At Some Distributions of Tags"
   ]
  },
  {
   "cell_type": "code",
   "execution_count": null,
   "metadata": {},
   "outputs": [],
   "source": [
    "def getSenseWord(sense_question):\n",
    "    if 'check' in sense_question:\n",
    "        return 'attention_check'\n",
    "    elif 'calibration' in sense_question:\n",
    "        return sense_question.split(\" \")[0]+' '+'calibration'\n",
    "    else:\n",
    "        return sense_question.split(\" \")[0]\n",
    "    \n",
    "final_sense_survey['word'] = final_sense_survey.sense_question.apply(getSenseWord)\n",
    "final_sense_survey"
   ]
  },
  {
   "cell_type": "code",
   "execution_count": null,
   "metadata": {},
   "outputs": [],
   "source": [
    "random_calibration_word = list(final_sense_survey[final_sense_survey['question_type']=='calibration'].sample(1).word)[0]\n",
    "random_calibration_word\n",
    "random_sense_estimations = final_sense_survey[(final_sense_survey['question_type']=='calibration') &\n",
    "                                             (final_sense_survey['word']==random_calibration_word)]\n",
    "%R -i random_sense_estimations"
   ]
  },
  {
   "cell_type": "code",
   "execution_count": null,
   "metadata": {},
   "outputs": [],
   "source": [
    "%%R -w 800 -h 400\n",
    "\n",
    "ggplot(random_sense_estimations,aes(x = aoa_estimation, fill=parent)) + geom_histogram(binwidth = 1,color='black',position='stack') + \n",
    "    facet_wrap(~question_group)+\n",
    "    labs( x = \"Raw Reported Estimated AoA\", y='Participant Count',\n",
    "         title =\"Estimated AoA\",\n",
    "         subtitle=paste0(slice(random_sense_estimations,1)$word)) + \n",
    "    theme_light() + color_scale"
   ]
  },
  {
   "cell_type": "code",
   "execution_count": null,
   "metadata": {},
   "outputs": [],
   "source": [
    "import random\n",
    "word_list = final_sense_survey[final_sense_survey['question_type']=='sense_question'].sense_question\n",
    "target_columns = random.sample(set(word_list), 16)\n",
    "\n",
    "fig, axes = plt.subplots(nrows=3, ncols=4, figsize = (14,8))\n",
    "fig.subplots_adjust(hspace=0.5)\n",
    "fig.suptitle('Various Distributions')\n",
    "\n",
    "for ax, sense in zip(axes.flatten(), target_columns):\n",
    "    ax.set_title(sense)\n",
    "    \n",
    "    aoa_estimations = final_sense_survey[final_sense_survey['sense_question']==sense]\n",
    "\n",
    "    parent_num_est = pd.to_numeric(aoa_estimations[(aoa_estimations['parent']=='Yes')].aoa_estimation)\n",
    "    \n",
    "    non_parent_num_est = pd.to_numeric(aoa_estimations[(aoa_estimations['parent']=='No')].aoa_estimation)\n",
    "    \n",
    "    #num_est = pd.to_numeric(aoa_estimations[~aoa_estimations[sense].isna()][sense])\n",
    "    ax.hist([parent_num_est, non_parent_num_est], bins=10,  histtype='bar', \n",
    "          stacked=True, label=['parents', 'non-parents'],align='left')\n",
    "    ax.set_ylim([0, 15])\n",
    "    ax.set(title=sense, xlabel='est years')\n",
    "    handles, labels = ax.get_legend_handles_labels()\n",
    "\n",
    "fig.legend(handles, labels, loc='lower center')"
   ]
  },
  {
   "cell_type": "code",
   "execution_count": null,
   "metadata": {},
   "outputs": [],
   "source": [
    "final_sense_survey[final_sense_survey['sense_question']=='wash v_understand_3']"
   ]
  },
  {
   "cell_type": "markdown",
   "metadata": {},
   "source": [
    "## Norm Participants Based On Their Calibrations"
   ]
  },
  {
   "cell_type": "markdown",
   "metadata": {},
   "source": [
    "Following homogonization from (Stadthagen-Gonzalez & Davis, 2006) ie the bristol norms\n",
    "\n",
    "\"estimate a mean bias for each person with respect to the group mean and subtract it\""
   ]
  },
  {
   "cell_type": "code",
   "execution_count": null,
   "metadata": {},
   "outputs": [],
   "source": [
    "pd.options.mode.chained_assignment = None\n",
    "participant_calibrations = final_sense_survey[\n",
    "                  (final_sense_survey['question_type']=='calibration')].rename(columns={'aoa_estimation':'participant_aoa_estimation'})\n",
    "\n",
    "mean_calibrations_df = final_sense_survey[final_sense_survey['question_type']=='calibration'].groupby(by='sense_question').agg('mean').reset_index().rename(columns={'aoa_estimation':'mean_aoa_estimation'})\n",
    "print(mean_calibrations_df.columns)\n",
    "mean_to_estimation_df = pd.merge(participant_calibrations[['participant_id','sense_question','participant_aoa_estimation','question_group']],\n",
    "    mean_calibrations_df,\n",
    "        left_on='sense_question',\n",
    "        right_on='sense_question',\n",
    "        how='inner')"
   ]
  },
  {
   "cell_type": "code",
   "execution_count": null,
   "metadata": {},
   "outputs": [],
   "source": [
    "mean_to_estimation_df['offset'] = mean_to_estimation_df.participant_aoa_estimation - mean_to_estimation_df.mean_aoa_estimation\n",
    "mean_to_estimation_df.offset.hist(bins=30)"
   ]
  },
  {
   "cell_type": "code",
   "execution_count": null,
   "metadata": {},
   "outputs": [],
   "source": [
    "#select a random participant\n",
    "rand_participant = list(participant_calibrations.sample(1).participant_id)[0]\n",
    "print('random participant', rand_participant)\n",
    "ind_part = mean_to_estimation_df[mean_to_estimation_df['participant_id']==rand_participant]\n",
    "\n",
    "from sklearn.linear_model import LinearRegression\n",
    "X = ind_part['mean_aoa_estimation'].values.reshape(-1,1)\n",
    "y = ind_part['participant_aoa_estimation'].values.reshape(-1,1)\n",
    "reg = LinearRegression()\n",
    "reg.fit(X, y)\n",
    "print(\"Intercept =\", reg.intercept_[0])\n",
    "print(\"Coeff =\",reg.coef_[0][0])\n",
    "\n",
    "ind_part.loc[:,'sub_intercept'] = ind_part.participant_aoa_estimation.apply(lambda est: est - reg.intercept_[0])\n",
    "ind_part.loc[:,'div_coeff'] = ind_part.sub_intercept.apply(lambda est: est/reg.coef_[0][0])\n",
    "\n",
    "%R -i ind_part"
   ]
  },
  {
   "cell_type": "code",
   "execution_count": null,
   "metadata": {},
   "outputs": [],
   "source": [
    "%%R -w 600 -h 300\n",
    "library(patchwork)\n",
    "raw <- ggplot(ind_part, aes(x=mean_aoa_estimation, y=participant_aoa_estimation, label=sense_question)) +geom_point(alpha=.75) +\n",
    "ylim(0,20) + xlim(0,20)+\n",
    "geom_smooth(method='lm', formula= y~x) + \n",
    "geom_abline(slope=1, intercept=0) + labs( x = \"Mean Tags For Calibration Across All Participants\", y='Participant Tags For Calibration',\n",
    "         title =paste(\"Participant\",slice(ind_part,1)$participant_id,\" vs Mean AoA\"),\n",
    "         subtitle=\"Before transformation\") + theme_light()\n",
    "\n",
    "adjusted <- ggplot(ind_part, aes(x=mean_aoa_estimation, y=div_coeff, label=sense_question)) +geom_point(alpha=.75) +\n",
    "ylim(0,20) + xlim(0,20)+\n",
    "geom_smooth(method='lm', formula= y~x) + \n",
    "geom_abline(slope=1, intercept=0) + labs( x = \"Mean Tags For Calibration Across All Participants\", y='Adjusted Participant Tags For Calibration',\n",
    "         \n",
    "         subtitle=\"After transformation (): (tag - intercept)/coeff\") + theme_light()\n",
    "\n",
    "raw+adjusted"
   ]
  },
  {
   "cell_type": "code",
   "execution_count": null,
   "metadata": {},
   "outputs": [],
   "source": [
    "mean_to_estimation_df[mean_to_estimation_df['sense_question']=='cat calibration_say_1']"
   ]
  },
  {
   "cell_type": "code",
   "execution_count": null,
   "metadata": {},
   "outputs": [],
   "source": [
    "from sklearn.linear_model import LinearRegression\n",
    "X = ind_part['mean_aoa_estimation'].values.reshape(-1,1)\n",
    "y = ind_part['participant_aoa_estimation'].values.reshape(-1,1)\n",
    "reg = LinearRegression()\n",
    "reg.fit(X, y)\n",
    "print(\"Intercept =\", reg.intercept_[0])\n",
    "print(\"Coeff =\",reg.coef_[0][0])"
   ]
  },
  {
   "cell_type": "code",
   "execution_count": null,
   "metadata": {},
   "outputs": [],
   "source": [
    "from sklearn.linear_model import LinearRegression\n",
    "X = ind_part['mean_aoa_estimation'].values.reshape(-1,1)\n",
    "y = ind_part['participant_aoa_estimation'].values.reshape(-1,1)\n",
    "reg = LinearRegression()\n",
    "reg.fit(X, y)\n",
    "print(\"Intercept =\", reg.intercept_[0])\n",
    "print(\"Coeff =\",reg.coef_[0][0])\n",
    "\n",
    "ind_part['sub_intercept'] = ind_part.participant_aoa_estimation.apply(lambda est: est - reg.intercept_[0])\n",
    "ind_part['div_coeff'] = ind_part.sub_intercept.apply(lambda est: est/reg.coef_[0][0])\n",
    "ind_part\n",
    "%R -i ind_part"
   ]
  },
  {
   "cell_type": "code",
   "execution_count": null,
   "metadata": {},
   "outputs": [],
   "source": [
    "ind_part['sub_intercept'] = ind_part.participant_aoa_estimation.apply(lambda est: est - reg.intercept_[0])\n",
    "ind_part['div_coeff'] = ind_part.sub_intercept.apply(lambda est: est/reg.coef_[0][0])\n",
    "ind_part\n",
    "%R -i ind_part"
   ]
  },
  {
   "cell_type": "code",
   "execution_count": null,
   "metadata": {},
   "outputs": [],
   "source": [
    "%%R\n",
    "ggplot(ind_part, aes(x=mean_aoa_estimation, y=div_coeff, label=sense_question)) +geom_point(alpha=.25) +\n",
    "ylim(0,20) + xlim(0,20)+\n",
    "geom_smooth(method='lm', formula= y~x) + \n",
    "geom_abline(slope=1, intercept=0)"
   ]
  },
  {
   "cell_type": "code",
   "execution_count": null,
   "metadata": {},
   "outputs": [],
   "source": [
    "ind_part['diff_mean'] = ind_part.mean_aoa_estimation - ind_part.div_coeff\n",
    "ind_part.diff_mean.hist()"
   ]
  },
  {
   "cell_type": "code",
   "execution_count": null,
   "metadata": {},
   "outputs": [],
   "source": [
    "final_sense_survey.head(3)\n",
    "final_sense_survey[final_sense_survey['question_type']=='attention_check']"
   ]
  },
  {
   "cell_type": "code",
   "execution_count": null,
   "metadata": {},
   "outputs": [],
   "source": [
    "wordbank_aoa = pd.read_csv('../data/predictors/word_aoa/wordbank_aoa.csv')\n",
    "mean_to_estimation_df.head(4)\n",
    "\n",
    "say_estimations_df = final_sense_survey[(final_sense_survey['question_group']=='say') &\n",
    "                                       (final_sense_survey['question_type']!='attention_check')]\n",
    "\n",
    "say_estimations_df.head(3)\n",
    "wordbank_aoa.head(3)\n",
    "\n",
    "say_estimations_df['word'] = say_estimations_df.sense_question.apply(lambda question: question.split(' ')[0])\n",
    "say_estimations_df.head(3)\n",
    "say_estimations_aoa = pd.merge(say_estimations_df,\n",
    "         wordbank_aoa[['lexical_category','aoa','uni_lemma']],\n",
    "        left_on='word',\n",
    "        right_on='uni_lemma',\n",
    "        how='inner')\n",
    "\n",
    "say_estimations_aoa"
   ]
  },
  {
   "cell_type": "code",
   "execution_count": null,
   "metadata": {},
   "outputs": [],
   "source": [
    "say_estimations_aoa.head(3)"
   ]
  },
  {
   "cell_type": "code",
   "execution_count": null,
   "metadata": {},
   "outputs": [],
   "source": [
    "say_estimations_aoa.sort_values(by='aoa')"
   ]
  },
  {
   "cell_type": "code",
   "execution_count": null,
   "metadata": {},
   "outputs": [],
   "source": [
    "say_estimations_aoa.head"
   ]
  },
  {
   "cell_type": "code",
   "execution_count": null,
   "metadata": {},
   "outputs": [],
   "source": [
    "say_estimations_aoa"
   ]
  },
  {
   "cell_type": "code",
   "execution_count": null,
   "metadata": {},
   "outputs": [],
   "source": [
    "%R -i say_estimations_aoa"
   ]
  },
  {
   "cell_type": "code",
   "execution_count": null,
   "metadata": {
    "scrolled": false
   },
   "outputs": [],
   "source": [
    "%%R\n",
    "library(lme4)\n",
    "\n",
    "aoa_pred = lmer(aoa_estimation ~ 0 + sense_question + (1|participant_id) , \n",
    "                data=say_estimations_aoa)\n",
    "\n",
    "\n",
    "summary(aoa_pred)"
   ]
  },
  {
   "cell_type": "code",
   "execution_count": null,
   "metadata": {},
   "outputs": [],
   "source": [
    "mean_to_estimation_df.to_csv('../processed_data/aoa_calibration_estimations.csv')"
   ]
  },
  {
   "cell_type": "code",
   "execution_count": null,
   "metadata": {},
   "outputs": [],
   "source": [
    "mean_to_estimation_df[mean_to_estimation_df['sense_question']=='cat calibration_say_1']"
   ]
  },
  {
   "cell_type": "code",
   "execution_count": null,
   "metadata": {},
   "outputs": [],
   "source": [
    "aoa_data = pd.read_csv('../data/item_data.csv')\n",
    "aoa_data[aoa_data['30']<.5]"
   ]
  },
  {
   "cell_type": "code",
   "execution_count": null,
   "metadata": {},
   "outputs": [],
   "source": []
  },
  {
   "cell_type": "code",
   "execution_count": null,
   "metadata": {},
   "outputs": [],
   "source": [
    "final_sense_survey[final_sense_survey['question_type']=='calibration'].groupby(by='sense_question').agg('mean').reset_index()"
   ]
  },
  {
   "cell_type": "code",
   "execution_count": null,
   "metadata": {},
   "outputs": [],
   "source": [
    "test_estimations = final_sense_survey[final_sense_survey['question_type']=='sense_question']\n",
    "sense_metrics = test_estimations.groupby(by=['sense_question']).agg(['mean','median','var', 'std'])['aoa_estimation'].reset_index()\n",
    "sense_metrics = pd.merge(sense_metrics,\n",
    "         test_estimations.groupby(by=['sense_question'])['participant_id'].agg('nunique'),\n",
    "         left_on='sense_question',\n",
    "         right_on='sense_question',\n",
    "         how='left')\n",
    "\n",
    "sense_metrics = sense_metrics.rename(columns={'participant_id':'num_estimations' ,\n",
    "                                             'var':'varience'})\n",
    "sense_metrics"
   ]
  },
  {
   "cell_type": "code",
   "execution_count": null,
   "metadata": {},
   "outputs": [],
   "source": [
    "import re\n",
    "import string\n",
    "lemmatizer = WordNetLemmatizer()\n",
    "\n",
    "def matchWordnetSynset(survey_sense, question_dict=question_dict, verbose=False):\n",
    "    pos_map = {'adj':'a'}\n",
    "\n",
    "    match_pos = re.search('(?<=\\ ).*?(?=\\_)', survey_sense)\n",
    "    match_pos = str(match_pos.group()).strip()\n",
    "    if match_pos in pos_map.keys():\n",
    "        match_pos = pos_map[match_pos]\n",
    "    \n",
    "    match_sense_num = re.search('\\d+(\\.\\d+)?$', survey_sense)\n",
    "    match_sense_num = str(match_sense_num.group())\n",
    "    \n",
    "    match_definition = re.search('(?<=\\-).*?(?=\\( E)', question_dict[survey_sense])\n",
    "    match_definition = str(match_definition.group()).strip()\n",
    "    match_definition = match_definition.strip(string.punctuation.replace('()', ''))\n",
    "\n",
    "    \n",
    "    match_gloss = survey_sense.split(\" \")[0]\n",
    "    match_lemma = lemmatizer.lemmatize(match_gloss)\n",
    "\n",
    "    wn_sense = str(match_lemma)+str(\".\")+str(match_pos)+str(\".\")+str(match_sense_num)\n",
    "    \n",
    "    if verbose:\n",
    "        print(wn_sense, match_definition)\n",
    "    try:\n",
    "        #if the definition is not found for the word + pos combo, something's fishy\n",
    "        if match_definition not in [synset.definition() for synset in wn.synsets(match_word, match_pos)]:\n",
    "            return 'no_definition_match'\n",
    "        else:\n",
    "            return wn.synset(wn_sense).name()\n",
    "            \n",
    "    #if wordnet can't even find a synset with that name, somethings very fishy\n",
    "    except:\n",
    "        return 'no_wn_sense'\n",
    "        pass"
   ]
  },
  {
   "cell_type": "code",
   "execution_count": null,
   "metadata": {},
   "outputs": [],
   "source": []
  },
  {
   "cell_type": "code",
   "execution_count": null,
   "metadata": {},
   "outputs": [],
   "source": [
    "matchToWordnetSynset('bear v_understand_7')"
   ]
  },
  {
   "cell_type": "code",
   "execution_count": null,
   "metadata": {},
   "outputs": [],
   "source": []
  },
  {
   "cell_type": "code",
   "execution_count": null,
   "metadata": {},
   "outputs": [],
   "source": [
    "question_dict"
   ]
  },
  {
   "cell_type": "code",
   "execution_count": null,
   "metadata": {},
   "outputs": [],
   "source": [
    "match_definition = wn.synsets('bear','v')[1].definition()\n",
    "match_definition = 'move while holding up or supporting'\n",
    "match_lemma, match_pos = 'bear', 'v'\n",
    "[poss_synset.name() if poss_synset.definition() == match_definition else print(poss_synset) for poss_synset in wn.synsets(match_lemma, match_pos)]"
   ]
  },
  {
   "cell_type": "code",
   "execution_count": null,
   "metadata": {},
   "outputs": [],
   "source": [
    "wn.synsets('dog','n')[1].definition()"
   ]
  },
  {
   "cell_type": "code",
   "execution_count": null,
   "metadata": {},
   "outputs": [],
   "source": [
    "string.punctuation.replace('()', '')"
   ]
  },
  {
   "cell_type": "code",
   "execution_count": null,
   "metadata": {},
   "outputs": [],
   "source": [
    "sense_metrics['converted_sense'] = sense_metrics.sense_question.apply(matchWordnetSynset)\n",
    "sense_metrics"
   ]
  },
  {
   "cell_type": "code",
   "execution_count": null,
   "metadata": {},
   "outputs": [],
   "source": [
    "r_understand_prev_data = pd.read_csv(\"../data/r_understand_data.csv\")\n",
    "r_understand_prev_data['qID'] = r_understand_prev_data.qID.apply(lambda question: question.replace('.', ' '))\n",
    "r_understand_prev_data = r_understand_prev_data.rename(columns={'qID':'sense_question'})\n",
    "r_understand_prev_data\n",
    "\n",
    "n_understand_prev_data = pd.read_csv(\"../data/n_understand_data.csv\")\n",
    "n_understand_prev_data['qID'] = n_understand_prev_data.qID.apply(lambda question: question.replace('.', ' '))\n",
    "n_understand_prev_data = n_understand_prev_data.rename(columns={'qID':'sense_question'})\n",
    "n_understand_prev_data\n",
    "\n",
    "rn_understand_data = pd.concat([n_understand_prev_data[['sense_question', 'word', 'wordnet_sense.no', 'definition', 'single_example']],\n",
    "                               r_understand_prev_data[['sense_question', 'word', 'wordnet_sense.no', 'definition', 'single_example']]])"
   ]
  },
  {
   "cell_type": "code",
   "execution_count": null,
   "metadata": {},
   "outputs": [],
   "source": [
    "pd.merge(sense_metrics,\n",
    "        rn_understand_data,\n",
    "        left_on='sense_question',\n",
    "        right_on='sense_question',\n",
    "        how='left')"
   ]
  },
  {
   "cell_type": "code",
   "execution_count": null,
   "metadata": {},
   "outputs": [],
   "source": [
    "r_understand_prev_data"
   ]
  },
  {
   "cell_type": "code",
   "execution_count": null,
   "metadata": {},
   "outputs": [],
   "source": [
    "sense_metrics[sense_metrics['converted_sense']=='no_definition_match']"
   ]
  },
  {
   "cell_type": "code",
   "execution_count": null,
   "metadata": {},
   "outputs": [],
   "source": [
    "sense_metrics[sense_metrics['num_estimations']<15]\n",
    "ind_part.groupby(by=['sense_question','question_group']).size().reset_index()\n",
    "sense_metrics =sense_metrics.drop(columns='question_group')"
   ]
  },
  {
   "cell_type": "code",
   "execution_count": null,
   "metadata": {},
   "outputs": [],
   "source": [
    "def questiontype(sense_question):\n",
    "    if 'say' in sense_question:\n",
    "        return 'say'\n",
    "    elif 'understand' in sense_question:\n",
    "        return 'understand'\n",
    "    else:\n",
    "        return 'calibration'\n",
    "    \n",
    "sense_metrics['question_type'] = sense_metrics.sense_question.apply(questiontype)"
   ]
  },
  {
   "cell_type": "code",
   "execution_count": null,
   "metadata": {},
   "outputs": [],
   "source": [
    "sense_metrics"
   ]
  },
  {
   "cell_type": "code",
   "execution_count": null,
   "metadata": {},
   "outputs": [],
   "source": [
    "%R -i sense_metrics"
   ]
  },
  {
   "cell_type": "code",
   "execution_count": null,
   "metadata": {},
   "outputs": [],
   "source": [
    "%%R -w 600 -h 400\n",
    "pal <- pnw_palette(\"Bay\",2, type = \"discrete\")\n",
    "color_scale <- scale_fill_manual(values=pal)\n",
    "sense_plot <- ggplot(sense_metrics) + theme_minimal() + color_scale\n",
    "\n",
    "num_estimations <- sense_plot + geom_histogram(aes(x = sense_metrics$num_estimations, fill = question_type), binwidth = 1,\n",
    "                            color='black',position='stack') + labs(title =\"Number of Estimations\", \n",
    "                                                                    x='Number of Estimations'\n",
    "                                                                   )\n",
    "\n",
    "mean_estimation <- sense_plot + geom_histogram(aes(x = sense_metrics$mean, fill = question_type), binwidth = 1,\n",
    "                                               color='black',position='stack') + labs(title =\"Mean AoA Estimations\",\n",
    "                                                                                      x='Mean Estimations') + theme(legend.position = \"none\") \n",
    "\n",
    "median_estimations <- sense_plot + geom_histogram(aes(x = sense_metrics$median, fill = question_type), binwidth = 1,\n",
    "                                                  color='black',position='stack') + labs(title =\"Median AoA Estimations\",\n",
    "                                                                                         x='Median Estimations') + theme(legend.position = \"none\") \n",
    "\n",
    "num_estimations / (mean_estimation + median_estimations)\n",
    "\n",
    "ggsave('figures/estimations_hist.png')"
   ]
  },
  {
   "cell_type": "code",
   "execution_count": null,
   "metadata": {},
   "outputs": [],
   "source": [
    "\n",
    "matchWordnetSynset('beads n_say_1', verbose=True)"
   ]
  },
  {
   "cell_type": "code",
   "execution_count": null,
   "metadata": {},
   "outputs": [],
   "source": [
    "question_dict['after adj_say_1']"
   ]
  },
  {
   "cell_type": "code",
   "execution_count": null,
   "metadata": {},
   "outputs": [],
   "source": [
    "[synset.definition() for synset in wn.synsets('beads', 'n')]"
   ]
  },
  {
   "cell_type": "code",
   "execution_count": null,
   "metadata": {},
   "outputs": [],
   "source": [
    "checkMatchingDefinition('bear.v.8',question_dict['bear v_understand_8'])"
   ]
  },
  {
   "cell_type": "code",
   "execution_count": null,
   "metadata": {},
   "outputs": [],
   "source": [
    "wn.synsets('bear', 'v')\n",
    "[synset.definition() for synset in wn.synsets('bear', 'v')]"
   ]
  },
  {
   "cell_type": "code",
   "execution_count": null,
   "metadata": {},
   "outputs": [],
   "source": [
    "question_dict['bear v_understand_8']"
   ]
  },
  {
   "cell_type": "code",
   "execution_count": null,
   "metadata": {},
   "outputs": [],
   "source": [
    "question_dict"
   ]
  },
  {
   "cell_type": "code",
   "execution_count": null,
   "metadata": {},
   "outputs": [],
   "source": [
    "question_dict['bear v_understand_10']"
   ]
  },
  {
   "cell_type": "code",
   "execution_count": null,
   "metadata": {},
   "outputs": [],
   "source": []
  }
 ],
 "metadata": {
  "kernelspec": {
   "display_name": "Python 3",
   "language": "python",
   "name": "python3"
  },
  "language_info": {
   "codemirror_mode": {
    "name": "ipython",
    "version": 3
   },
   "file_extension": ".py",
   "mimetype": "text/x-python",
   "name": "python",
   "nbconvert_exporter": "python",
   "pygments_lexer": "ipython3",
   "version": "3.9.0"
  }
 },
 "nbformat": 4,
 "nbformat_minor": 4
}
